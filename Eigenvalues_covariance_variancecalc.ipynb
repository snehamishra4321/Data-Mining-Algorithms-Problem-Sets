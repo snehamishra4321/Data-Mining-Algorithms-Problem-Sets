{
 "cells": [
  {
   "cell_type": "markdown",
   "id": "70a00764",
   "metadata": {},
   "source": [
    "### Eigen value Calculator"
   ]
  },
  {
   "cell_type": "code",
   "execution_count": 1,
   "id": "f0d62d55",
   "metadata": {},
   "outputs": [
    {
     "data": {
      "text/plain": [
       "array([[12.56, 29.48],\n",
       "       [29.48, 80.64]])"
      ]
     },
     "execution_count": 1,
     "metadata": {},
     "output_type": "execute_result"
    }
   ],
   "source": [
    "import numpy as np\n",
    "from numpy.linalg import eig\n",
    "\n",
    "a = np.array([[8,0,7,9,2], \n",
    "              [24,2,18,17,2]])\n",
    "cov_a = np.cov(a,ddof=0)\n",
    "cov_a"
   ]
  },
  {
   "cell_type": "code",
   "execution_count": 2,
   "id": "646424ea",
   "metadata": {},
   "outputs": [
    {
     "data": {
      "text/plain": [
       "array([[ 8.        , 11.33333333, -5.33333333],\n",
       "       [11.33333333, 16.22222222, -8.55555556],\n",
       "       [-5.33333333, -8.55555556,  9.55555556]])"
      ]
     },
     "execution_count": 2,
     "metadata": {},
     "output_type": "execute_result"
    }
   ],
   "source": [
    "import numpy as np\n",
    "from numpy.linalg import eig\n",
    "\n",
    "a = np.array([[17,11,11], \n",
    "              [17,9,8],[12,13,19]])\n",
    "cov_a = np.cov(a,ddof=0)\n",
    "cov_a"
   ]
  },
  {
   "cell_type": "code",
   "execution_count": 3,
   "id": "4bb02c19",
   "metadata": {},
   "outputs": [
    {
     "data": {
      "text/plain": [
       "1.0588334856683206e-13"
      ]
     },
     "execution_count": 3,
     "metadata": {},
     "output_type": "execute_result"
    }
   ],
   "source": [
    "np.linalg.det(cov_a)"
   ]
  },
  {
   "cell_type": "code",
   "execution_count": 4,
   "id": "ff2f5a83",
   "metadata": {},
   "outputs": [
    {
     "data": {
      "text/plain": [
       "8.0"
      ]
     },
     "execution_count": 4,
     "metadata": {},
     "output_type": "execute_result"
    }
   ],
   "source": [
    "np.var(a[0])"
   ]
  },
  {
   "cell_type": "code",
   "execution_count": 5,
   "id": "3a33edd9",
   "metadata": {},
   "outputs": [
    {
     "data": {
      "text/plain": [
       "array([[ 12.        ,  17.        ,  -8.        ],\n",
       "       [ 17.        ,  24.33333333, -12.83333333],\n",
       "       [ -8.        , -12.83333333,  14.33333333]])"
      ]
     },
     "execution_count": 5,
     "metadata": {},
     "output_type": "execute_result"
    }
   ],
   "source": [
    "np.cov(a)"
   ]
  },
  {
   "cell_type": "code",
   "execution_count": 6,
   "id": "600bf173",
   "metadata": {},
   "outputs": [
    {
     "name": "stdout",
     "output_type": "stream",
     "text": [
      "13.0\n",
      "11.333333333333334\n"
     ]
    }
   ],
   "source": [
    "# col means\n",
    "print(np.mean(a[0]))\n",
    "print(np.mean(a[1]))"
   ]
  },
  {
   "cell_type": "code",
   "execution_count": 7,
   "id": "87a9de8a",
   "metadata": {},
   "outputs": [
    {
     "name": "stdout",
     "output_type": "stream",
     "text": [
      "E-value: [2.93020440e+01 1.33315847e-15 4.47573378e+00]\n",
      "E-vectors\n",
      "[[-0.50440367 -0.78983231  0.34891526]\n",
      " [-0.73425447  0.60497794  0.30801309]\n",
      " [ 0.45436473  0.10082966  0.885091  ]]\n"
     ]
    }
   ],
   "source": [
    "w,v=eig(cov_a)\n",
    "print('E-value:', w)\n",
    "print('E-vectors')\n",
    "print(v)"
   ]
  },
  {
   "cell_type": "code",
   "execution_count": 8,
   "id": "f495a450",
   "metadata": {},
   "outputs": [
    {
     "data": {
      "text/plain": [
       "array([-17.81502853,  -8.12103276,  -5.23770888])"
      ]
     },
     "execution_count": 8,
     "metadata": {},
     "output_type": "execute_result"
    }
   ],
   "source": [
    "# PCA projection\n",
    "# Work in progress for the pc1 coordinates\n",
    "pc1 = a.T@v[0]\n",
    "pc1"
   ]
  },
  {
   "cell_type": "code",
   "execution_count": 9,
   "id": "bde4a311",
   "metadata": {},
   "outputs": [
    {
     "ename": "ModuleNotFoundError",
     "evalue": "No module named 'scipy'",
     "output_type": "error",
     "traceback": [
      "\u001b[0;31m---------------------------------------------------------------------------\u001b[0m",
      "\u001b[0;31mModuleNotFoundError\u001b[0m                       Traceback (most recent call last)",
      "\u001b[1;32m/home/sneha/Downloads/Midterm.ipynb Cell 10\u001b[0m in \u001b[0;36m<cell line: 3>\u001b[0;34m()\u001b[0m\n\u001b[1;32m      <a href='vscode-notebook-cell:/home/sneha/Downloads/Midterm.ipynb#X12sZmlsZQ%3D%3D?line=0'>1</a>\u001b[0m \u001b[39mimport\u001b[39;00m \u001b[39mstatistics\u001b[39;00m \u001b[39mas\u001b[39;00m \u001b[39mst\u001b[39;00m\n\u001b[1;32m      <a href='vscode-notebook-cell:/home/sneha/Downloads/Midterm.ipynb#X12sZmlsZQ%3D%3D?line=1'>2</a>\u001b[0m \u001b[39mimport\u001b[39;00m \u001b[39mnumpy\u001b[39;00m \u001b[39mas\u001b[39;00m \u001b[39mnp\u001b[39;00m\n\u001b[0;32m----> <a href='vscode-notebook-cell:/home/sneha/Downloads/Midterm.ipynb#X12sZmlsZQ%3D%3D?line=2'>3</a>\u001b[0m \u001b[39mfrom\u001b[39;00m \u001b[39mscipy\u001b[39;00m \u001b[39mimport\u001b[39;00m stats\n\u001b[1;32m      <a href='vscode-notebook-cell:/home/sneha/Downloads/Midterm.ipynb#X12sZmlsZQ%3D%3D?line=3'>4</a>\u001b[0m \u001b[39mimport\u001b[39;00m \u001b[39mmatplotlib\u001b[39;00m\u001b[39m.\u001b[39;00m\u001b[39mpyplot\u001b[39;00m \u001b[39mas\u001b[39;00m \u001b[39mplt\u001b[39;00m\n\u001b[1;32m      <a href='vscode-notebook-cell:/home/sneha/Downloads/Midterm.ipynb#X12sZmlsZQ%3D%3D?line=4'>5</a>\u001b[0m \u001b[39mimport\u001b[39;00m \u001b[39mmath\u001b[39;00m\n",
      "\u001b[0;31mModuleNotFoundError\u001b[0m: No module named 'scipy'"
     ]
    }
   ],
   "source": [
    "import statistics as st\n",
    "import numpy as np\n",
    "from scipy import stats\n",
    "import matplotlib.pyplot as plt\n",
    "import math\n",
    "import sympy as sp\n",
    "from sympy import *\n",
    "\n",
    "X=[69, 74, 68, 73, 72, 87, 66, 70, 74, 68, 72, 89, 74, 67, 66, 71, 72, 75, 76, 78, 65]\n",
    "Y = [163, 175, 165, 135, 172, 160, 115, 157, 200, 132, 140, 165, 285, 92, 142, 150, 165, 182, 212, 220, 134]\n",
    "mean_X=sum(X)/len(X)\n",
    "median_X=np.median(X)\n",
    "mode_X=st.mode(np.array(X))\n",
    "print(\"mean of X is\",mean_X)\n",
    "print(\"median of X is \",median_X)\n",
    "print(\"mode of X is \",mode_X)\n",
    "\n",
    "var=0\n",
    "mean_Y=np.mean(Y)\n",
    "print(\"Mean of Y is \",mean_Y)\n",
    "for i in Y:\n",
    "    var+=(i-mean_Y)*(i-mean_Y)\n",
    "Var_Y=var/21\n",
    "print(\"Variance of Y is \",Var_Y)\n",
    "print(\"Covariance\",np.cov(np.array([X,Y]),ddof=0))"
   ]
  },
  {
   "cell_type": "code",
   "execution_count": null,
   "id": "84299a61",
   "metadata": {},
   "outputs": [],
   "source": []
  }
 ],
 "metadata": {
  "kernelspec": {
   "display_name": "Python 3.8.13 ('coursework')",
   "language": "python",
   "name": "python3"
  },
  "language_info": {
   "codemirror_mode": {
    "name": "ipython",
    "version": 3
   },
   "file_extension": ".py",
   "mimetype": "text/x-python",
   "name": "python",
   "nbconvert_exporter": "python",
   "pygments_lexer": "ipython3",
   "version": "3.8.13"
  },
  "vscode": {
   "interpreter": {
    "hash": "b7327681d0641f8ba42b8a150335ae309a7633559409ed5de8396b38b624bd63"
   }
  }
 },
 "nbformat": 4,
 "nbformat_minor": 5
}
