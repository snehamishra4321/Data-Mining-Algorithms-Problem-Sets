{
  "cells": [
    {
      "cell_type": "code",
      "execution_count": null,
      "id": "d4e844d4",
      "metadata": {
        "id": "d4e844d4"
      },
      "outputs": [],
      "source": [
        "import numpy as np"
      ]
    },
    {
      "cell_type": "code",
      "execution_count": null,
      "id": "3473ba5e",
      "metadata": {
        "id": "3473ba5e"
      },
      "outputs": [],
      "source": [
        "def entropy(n1, n2):\n",
        "    \n",
        "    sum_ = n1+n2\n",
        "    n1 = n1 / sum_\n",
        "    n2 = n2 / sum_\n",
        "    return -1* (n1 * np.log2(n1) + n2 * np.log2(n2))"
      ]
    },
    {
      "cell_type": "code",
      "execution_count": null,
      "id": "a1cd1c9b",
      "metadata": {
        "id": "a1cd1c9b"
      },
      "outputs": [],
      "source": [
        "def gini(n1, n2):\n",
        "    \n",
        "    sum_ = n1+n2\n",
        "    n1 = n1 / sum_\n",
        "    n2 = n2 / sum_\n",
        "    return 1 - n1*n1 - n2*n2"
      ]
    },
    {
      "cell_type": "code",
      "execution_count": null,
      "id": "7bcf3237",
      "metadata": {
        "id": "7bcf3237"
      },
      "outputs": [],
      "source": [
        "# |---|---|---|\n",
        "# | X   C1  C2|\n",
        "# |---|---|---|\n",
        "# | DY|n1Y|n2y|\n",
        "# |---|---|---|\n",
        "# | DN|n1N|n2N|\n",
        "# --------------\n",
        "\n",
        "# No of points belonging to class 1 and Dy\n",
        "n1Y = 1\n",
        "\n",
        "# No of points belonging to class 2 and DY\n",
        "n2Y = 2\n",
        "\n",
        "# No of points belonging to class 1 and DN\n",
        "n1N = 4\n",
        "\n",
        "# No of points belonging to class 2 and DN\n",
        "n2N = 1\n"
      ]
    },
    {
      "cell_type": "code",
      "execution_count": null,
      "id": "318c0bb2",
      "metadata": {
        "colab": {
          "base_uri": "https://localhost:8080/"
        },
        "id": "318c0bb2",
        "outputId": "760efb65-7aa5-4a7a-fc02-269fd6d28722"
      },
      "outputs": [
        {
          "output_type": "stream",
          "name": "stdout",
          "text": [
            "H_DY :  0.9182958340544896\n",
            "H_DN :  0.7219280948873623\n",
            "H_D  :  0.9544340029249649\n"
          ]
        }
      ],
      "source": [
        "H_DY = entropy(n1Y, n2Y)\n",
        "H_DN = entropy(n1N, n2N)\n",
        "H_D = entropy(n1Y + n1N, n2Y + n2N )\n",
        "\n",
        "print(\"H_DY : \", H_DY)\n",
        "print(\"H_DN : \", H_DN)\n",
        "print(\"H_D  : \", H_D)\n"
      ]
    },
    {
      "cell_type": "code",
      "execution_count": null,
      "id": "9a11201a",
      "metadata": {
        "colab": {
          "base_uri": "https://localhost:8080/"
        },
        "id": "9a11201a",
        "outputId": "c48c9a9c-988b-4c31-d054-7645adab7e7c"
      },
      "outputs": [
        {
          "output_type": "stream",
          "name": "stdout",
          "text": [
            "Gain :  0.15886800584992988\n"
          ]
        }
      ],
      "source": [
        "Gain = H_D - ( (n1Y+ n2Y)*H_DY / (n1Y+ n2Y + n1N+ n2N) + (n1N+ n2N)*H_DN / (n1Y+ n2Y + n1N+ n2N) )\n",
        "print(\"Gain : \", Gain)"
      ]
    },
    {
      "cell_type": "code",
      "execution_count": null,
      "id": "cf7c5938",
      "metadata": {
        "colab": {
          "base_uri": "https://localhost:8080/"
        },
        "id": "cf7c5938",
        "outputId": "9b63902c-a145-4f20-d100-2d17e707d843"
      },
      "outputs": [
        {
          "output_type": "stream",
          "name": "stdout",
          "text": [
            "Gini_DY :  0.4444444444444444\n",
            "Gini_DN :  0.31999999999999984\n",
            "Gini_D  :  0.46875\n",
            "Weighted Gini :  0.3666666666666666\n"
          ]
        }
      ],
      "source": [
        "Gini_DY = gini(n1Y, n2Y)\n",
        "Gini_DN = gini(n1N, n2N)\n",
        "Gini_D = gini(n1Y + n1N, n2Y + n2N )\n",
        "weighted_gini = ( (n1Y+ n2Y)*Gini_DY / (n1Y+ n2Y + n1N+ n2N) + (n1N+ n2N)*Gini_DN / (n1Y+ n2Y + n1N+ n2N) )\n",
        "\n",
        "print(\"Gini_DY : \", Gini_DY)\n",
        "print(\"Gini_DN : \", Gini_DN)\n",
        "print(\"Gini_D  : \", Gini_D)\n",
        "print(\"Weighted Gini : \", weighted_gini)"
      ]
    },
    {
      "cell_type": "code",
      "execution_count": null,
      "id": "0ec37a1d",
      "metadata": {
        "colab": {
          "base_uri": "https://localhost:8080/"
        },
        "id": "0ec37a1d",
        "outputId": "a7ce4047-6b3e-43a9-f05f-42944c3859bb"
      },
      "outputs": [
        {
          "output_type": "stream",
          "name": "stdout",
          "text": [
            "Purity Y : 0.6666666666666666\n",
            "Purity N : 0.8\n"
          ]
        }
      ],
      "source": [
        "purity_y = max(n1Y,n2Y) / (n1Y + n2Y)\n",
        "purity_n = max(n1N,n2N) / (n1N + n2N)\n",
        "print(\"Purity Y :\", purity_y)\n",
        "print(\"Purity N :\", purity_n)"
      ]
    },
    {
      "cell_type": "code",
      "execution_count": null,
      "id": "c1ab9685",
      "metadata": {
        "id": "c1ab9685"
      },
      "outputs": [],
      "source": []
    }
  ],
  "metadata": {
    "kernelspec": {
      "display_name": "Python 3 (ipykernel)",
      "language": "python",
      "name": "python3"
    },
    "language_info": {
      "codemirror_mode": {
        "name": "ipython",
        "version": 3
      },
      "file_extension": ".py",
      "mimetype": "text/x-python",
      "name": "python",
      "nbconvert_exporter": "python",
      "pygments_lexer": "ipython3",
      "version": "3.9.12"
    },
    "colab": {
      "provenance": []
    }
  },
  "nbformat": 4,
  "nbformat_minor": 5
}