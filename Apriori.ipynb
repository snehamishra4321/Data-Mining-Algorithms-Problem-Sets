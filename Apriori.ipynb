{
 "cells": [
  {
   "cell_type": "markdown",
   "id": "abfc8359",
   "metadata": {},
   "source": [
    "# Apriori Algorithm"
   ]
  },
  {
   "cell_type": "code",
   "execution_count": 2,
   "id": "1eff3543",
   "metadata": {},
   "outputs": [],
   "source": [
    "import numpy as np\n",
    "import pandas as pd\n",
    "from apyori import apriori"
   ]
  },
  {
   "cell_type": "code",
   "execution_count": 3,
   "id": "d7a715bf",
   "metadata": {},
   "outputs": [],
   "source": [
    "data = [['A','B','C','D'],\n",
    "       ['B', 'E'],\n",
    "['A', 'B', 'C', 'E'],\n",
    "['A', 'B', 'F'],\n",
    "['A', 'C', 'F'],\n",
    "['B', 'C', 'D', 'E'],\n",
    "['A', 'C'],\n",
    "['A', 'B', 'C', 'D', 'E'],\n",
    "['A', 'B', 'F'],\n",
    "['C', 'D']]"
   ]
  },
  {
   "cell_type": "code",
   "execution_count": 4,
   "id": "c2011e55",
   "metadata": {},
   "outputs": [
    {
     "name": "stdout",
     "output_type": "stream",
     "text": [
      "Item -  frozenset({'A'})\n",
      "Support -  7.0\n",
      "Ordered_stats -  [OrderedStatistic(items_base=frozenset(), items_add=frozenset({'A'}), confidence=0.7, lift=1.0)]\n",
      "\n",
      "\n",
      "\n",
      "Item -  frozenset({'B'})\n",
      "Support -  7.0\n",
      "Ordered_stats -  [OrderedStatistic(items_base=frozenset(), items_add=frozenset({'B'}), confidence=0.7, lift=1.0)]\n",
      "\n",
      "\n",
      "\n",
      "Item -  frozenset({'C'})\n",
      "Support -  7.0\n",
      "Ordered_stats -  [OrderedStatistic(items_base=frozenset(), items_add=frozenset({'C'}), confidence=0.7, lift=1.0)]\n",
      "\n",
      "\n",
      "\n",
      "Item -  frozenset({'D'})\n",
      "Support -  4.0\n",
      "Ordered_stats -  [OrderedStatistic(items_base=frozenset(), items_add=frozenset({'D'}), confidence=0.4, lift=1.0)]\n",
      "\n",
      "\n",
      "\n",
      "Item -  frozenset({'E'})\n",
      "Support -  4.0\n",
      "Ordered_stats -  [OrderedStatistic(items_base=frozenset(), items_add=frozenset({'E'}), confidence=0.4, lift=1.0)]\n",
      "\n",
      "\n",
      "\n",
      "Item -  frozenset({'F'})\n",
      "Support -  3.0\n",
      "Ordered_stats -  [OrderedStatistic(items_base=frozenset(), items_add=frozenset({'F'}), confidence=0.3, lift=1.0)]\n",
      "\n",
      "\n",
      "\n",
      "Item -  frozenset({'A', 'B'})\n",
      "Support -  5.0\n",
      "Ordered_stats -  [OrderedStatistic(items_base=frozenset(), items_add=frozenset({'A', 'B'}), confidence=0.5, lift=1.0), OrderedStatistic(items_base=frozenset({'A'}), items_add=frozenset({'B'}), confidence=0.7142857142857143, lift=1.0204081632653061), OrderedStatistic(items_base=frozenset({'B'}), items_add=frozenset({'A'}), confidence=0.7142857142857143, lift=1.0204081632653061)]\n",
      "\n",
      "\n",
      "\n",
      "Item -  frozenset({'C', 'A'})\n",
      "Support -  5.0\n",
      "Ordered_stats -  [OrderedStatistic(items_base=frozenset(), items_add=frozenset({'C', 'A'}), confidence=0.5, lift=1.0), OrderedStatistic(items_base=frozenset({'A'}), items_add=frozenset({'C'}), confidence=0.7142857142857143, lift=1.0204081632653061), OrderedStatistic(items_base=frozenset({'C'}), items_add=frozenset({'A'}), confidence=0.7142857142857143, lift=1.0204081632653061)]\n",
      "\n",
      "\n",
      "\n",
      "Item -  frozenset({'F', 'A'})\n",
      "Support -  3.0\n",
      "Ordered_stats -  [OrderedStatistic(items_base=frozenset(), items_add=frozenset({'F', 'A'}), confidence=0.3, lift=1.0), OrderedStatistic(items_base=frozenset({'A'}), items_add=frozenset({'F'}), confidence=0.4285714285714286, lift=1.4285714285714288), OrderedStatistic(items_base=frozenset({'F'}), items_add=frozenset({'A'}), confidence=1.0, lift=1.4285714285714286)]\n",
      "\n",
      "\n",
      "\n",
      "Item -  frozenset({'C', 'B'})\n",
      "Support -  4.0\n",
      "Ordered_stats -  [OrderedStatistic(items_base=frozenset(), items_add=frozenset({'C', 'B'}), confidence=0.4, lift=1.0), OrderedStatistic(items_base=frozenset({'B'}), items_add=frozenset({'C'}), confidence=0.5714285714285715, lift=0.816326530612245), OrderedStatistic(items_base=frozenset({'C'}), items_add=frozenset({'B'}), confidence=0.5714285714285715, lift=0.816326530612245)]\n",
      "\n",
      "\n",
      "\n",
      "Item -  frozenset({'D', 'B'})\n",
      "Support -  3.0\n",
      "Ordered_stats -  [OrderedStatistic(items_base=frozenset(), items_add=frozenset({'B', 'D'}), confidence=0.3, lift=1.0), OrderedStatistic(items_base=frozenset({'B'}), items_add=frozenset({'D'}), confidence=0.4285714285714286, lift=1.0714285714285714), OrderedStatistic(items_base=frozenset({'D'}), items_add=frozenset({'B'}), confidence=0.7499999999999999, lift=1.0714285714285714)]\n",
      "\n",
      "\n",
      "\n",
      "Item -  frozenset({'E', 'B'})\n",
      "Support -  4.0\n",
      "Ordered_stats -  [OrderedStatistic(items_base=frozenset(), items_add=frozenset({'E', 'B'}), confidence=0.4, lift=1.0), OrderedStatistic(items_base=frozenset({'B'}), items_add=frozenset({'E'}), confidence=0.5714285714285715, lift=1.4285714285714286), OrderedStatistic(items_base=frozenset({'E'}), items_add=frozenset({'B'}), confidence=1.0, lift=1.4285714285714286)]\n",
      "\n",
      "\n",
      "\n",
      "Item -  frozenset({'C', 'D'})\n",
      "Support -  4.0\n",
      "Ordered_stats -  [OrderedStatistic(items_base=frozenset(), items_add=frozenset({'C', 'D'}), confidence=0.4, lift=1.0), OrderedStatistic(items_base=frozenset({'C'}), items_add=frozenset({'D'}), confidence=0.5714285714285715, lift=1.4285714285714286), OrderedStatistic(items_base=frozenset({'D'}), items_add=frozenset({'C'}), confidence=1.0, lift=1.4285714285714286)]\n",
      "\n",
      "\n",
      "\n",
      "Item -  frozenset({'C', 'E'})\n",
      "Support -  3.0\n",
      "Ordered_stats -  [OrderedStatistic(items_base=frozenset(), items_add=frozenset({'C', 'E'}), confidence=0.3, lift=1.0), OrderedStatistic(items_base=frozenset({'C'}), items_add=frozenset({'E'}), confidence=0.4285714285714286, lift=1.0714285714285714), OrderedStatistic(items_base=frozenset({'E'}), items_add=frozenset({'C'}), confidence=0.7499999999999999, lift=1.0714285714285714)]\n",
      "\n",
      "\n",
      "\n",
      "Item -  frozenset({'C', 'A', 'B'})\n",
      "Support -  3.0\n",
      "Ordered_stats -  [OrderedStatistic(items_base=frozenset(), items_add=frozenset({'C', 'A', 'B'}), confidence=0.3, lift=1.0), OrderedStatistic(items_base=frozenset({'A'}), items_add=frozenset({'C', 'B'}), confidence=0.4285714285714286, lift=1.0714285714285714), OrderedStatistic(items_base=frozenset({'B'}), items_add=frozenset({'C', 'A'}), confidence=0.4285714285714286, lift=0.8571428571428572), OrderedStatistic(items_base=frozenset({'C'}), items_add=frozenset({'A', 'B'}), confidence=0.4285714285714286, lift=0.8571428571428572), OrderedStatistic(items_base=frozenset({'A', 'B'}), items_add=frozenset({'C'}), confidence=0.6, lift=0.8571428571428572), OrderedStatistic(items_base=frozenset({'C', 'A'}), items_add=frozenset({'B'}), confidence=0.6, lift=0.8571428571428572), OrderedStatistic(items_base=frozenset({'C', 'B'}), items_add=frozenset({'A'}), confidence=0.7499999999999999, lift=1.0714285714285714)]\n",
      "\n",
      "\n",
      "\n",
      "Item -  frozenset({'D', 'C', 'B'})\n",
      "Support -  3.0\n",
      "Ordered_stats -  [OrderedStatistic(items_base=frozenset(), items_add=frozenset({'B', 'C', 'D'}), confidence=0.3, lift=1.0), OrderedStatistic(items_base=frozenset({'B'}), items_add=frozenset({'C', 'D'}), confidence=0.4285714285714286, lift=1.0714285714285714), OrderedStatistic(items_base=frozenset({'C'}), items_add=frozenset({'B', 'D'}), confidence=0.4285714285714286, lift=1.4285714285714288), OrderedStatistic(items_base=frozenset({'D'}), items_add=frozenset({'C', 'B'}), confidence=0.7499999999999999, lift=1.8749999999999996), OrderedStatistic(items_base=frozenset({'C', 'B'}), items_add=frozenset({'D'}), confidence=0.7499999999999999, lift=1.8749999999999996), OrderedStatistic(items_base=frozenset({'D', 'B'}), items_add=frozenset({'C'}), confidence=1.0, lift=1.4285714285714286), OrderedStatistic(items_base=frozenset({'C', 'D'}), items_add=frozenset({'B'}), confidence=0.7499999999999999, lift=1.0714285714285714)]\n",
      "\n",
      "\n",
      "\n",
      "Item -  frozenset({'C', 'E', 'B'})\n",
      "Support -  3.0\n",
      "Ordered_stats -  [OrderedStatistic(items_base=frozenset(), items_add=frozenset({'C', 'E', 'B'}), confidence=0.3, lift=1.0), OrderedStatistic(items_base=frozenset({'B'}), items_add=frozenset({'C', 'E'}), confidence=0.4285714285714286, lift=1.4285714285714288), OrderedStatistic(items_base=frozenset({'C'}), items_add=frozenset({'E', 'B'}), confidence=0.4285714285714286, lift=1.0714285714285714), OrderedStatistic(items_base=frozenset({'E'}), items_add=frozenset({'C', 'B'}), confidence=0.7499999999999999, lift=1.8749999999999996), OrderedStatistic(items_base=frozenset({'C', 'B'}), items_add=frozenset({'E'}), confidence=0.7499999999999999, lift=1.8749999999999996), OrderedStatistic(items_base=frozenset({'E', 'B'}), items_add=frozenset({'C'}), confidence=0.7499999999999999, lift=1.0714285714285714), OrderedStatistic(items_base=frozenset({'C', 'E'}), items_add=frozenset({'B'}), confidence=1.0, lift=1.4285714285714286)]\n",
      "\n",
      "\n",
      "\n"
     ]
    }
   ],
   "source": [
    "association_rules = apriori(data, min_support = 0.3)\n",
    "rules = list(association_rules)\n",
    "for item in rules:\n",
    "    item_ = item[0]\n",
    "    support = item[1]*len(data)\n",
    "    ordered_stats = item[2]\n",
    "    print(\"Item - \",item_)\n",
    "    print(\"Support - \", support)\n",
    "    print(\"Ordered_stats - \",ordered_stats )\n",
    "    print('\\n\\n')"
   ]
  },
  {
   "cell_type": "code",
   "execution_count": null,
   "id": "452d4429",
   "metadata": {},
   "outputs": [],
   "source": []
  }
 ],
 "metadata": {
  "kernelspec": {
   "display_name": "Python 3.9.12 ('base')",
   "language": "python",
   "name": "python3"
  },
  "language_info": {
   "codemirror_mode": {
    "name": "ipython",
    "version": 3
   },
   "file_extension": ".py",
   "mimetype": "text/x-python",
   "name": "python",
   "nbconvert_exporter": "python",
   "pygments_lexer": "ipython3",
   "version": "3.9.12"
  },
  "vscode": {
   "interpreter": {
    "hash": "ec82f12a2cb47047b534e9c669340dcebb498bf61f15a6577c32df05515dbebf"
   }
  }
 },
 "nbformat": 4,
 "nbformat_minor": 5
}
