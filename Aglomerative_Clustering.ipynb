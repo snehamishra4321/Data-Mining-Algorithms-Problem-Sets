{
  "cells": [
    {
      "cell_type": "code",
      "execution_count": null,
      "id": "56bd976b",
      "metadata": {
        "id": "56bd976b"
      },
      "outputs": [],
      "source": [
        "import pandas as pd\n",
        "import numpy as np\n",
        "import seaborn as sns\n",
        "import matplotlib.pyplot as plt"
      ]
    },
    {
      "cell_type": "code",
      "execution_count": null,
      "id": "e9f3141f",
      "metadata": {
        "id": "e9f3141f",
        "outputId": "02777f95-d3b1-459f-b8d7-56d8af708177",
        "colab": {
          "base_uri": "https://localhost:8080/",
          "height": 206
        }
      },
      "outputs": [
        {
          "output_type": "execute_result",
          "data": {
            "text/plain": [
              "   B   C   D   E   F\n",
              "0  7  57  36  42  32\n",
              "1  0  49  39  35  23\n",
              "2  0   0  22  14  25\n",
              "3  0   0   0   5  10\n",
              "4  0   0   0   0  11"
            ],
            "text/html": [
              "\n",
              "  <div id=\"df-9e982f5f-9955-455a-942c-fec99109a6e5\">\n",
              "    <div class=\"colab-df-container\">\n",
              "      <div>\n",
              "<style scoped>\n",
              "    .dataframe tbody tr th:only-of-type {\n",
              "        vertical-align: middle;\n",
              "    }\n",
              "\n",
              "    .dataframe tbody tr th {\n",
              "        vertical-align: top;\n",
              "    }\n",
              "\n",
              "    .dataframe thead th {\n",
              "        text-align: right;\n",
              "    }\n",
              "</style>\n",
              "<table border=\"1\" class=\"dataframe\">\n",
              "  <thead>\n",
              "    <tr style=\"text-align: right;\">\n",
              "      <th></th>\n",
              "      <th>B</th>\n",
              "      <th>C</th>\n",
              "      <th>D</th>\n",
              "      <th>E</th>\n",
              "      <th>F</th>\n",
              "    </tr>\n",
              "  </thead>\n",
              "  <tbody>\n",
              "    <tr>\n",
              "      <th>0</th>\n",
              "      <td>7</td>\n",
              "      <td>57</td>\n",
              "      <td>36</td>\n",
              "      <td>42</td>\n",
              "      <td>32</td>\n",
              "    </tr>\n",
              "    <tr>\n",
              "      <th>1</th>\n",
              "      <td>0</td>\n",
              "      <td>49</td>\n",
              "      <td>39</td>\n",
              "      <td>35</td>\n",
              "      <td>23</td>\n",
              "    </tr>\n",
              "    <tr>\n",
              "      <th>2</th>\n",
              "      <td>0</td>\n",
              "      <td>0</td>\n",
              "      <td>22</td>\n",
              "      <td>14</td>\n",
              "      <td>25</td>\n",
              "    </tr>\n",
              "    <tr>\n",
              "      <th>3</th>\n",
              "      <td>0</td>\n",
              "      <td>0</td>\n",
              "      <td>0</td>\n",
              "      <td>5</td>\n",
              "      <td>10</td>\n",
              "    </tr>\n",
              "    <tr>\n",
              "      <th>4</th>\n",
              "      <td>0</td>\n",
              "      <td>0</td>\n",
              "      <td>0</td>\n",
              "      <td>0</td>\n",
              "      <td>11</td>\n",
              "    </tr>\n",
              "  </tbody>\n",
              "</table>\n",
              "</div>\n",
              "      <button class=\"colab-df-convert\" onclick=\"convertToInteractive('df-9e982f5f-9955-455a-942c-fec99109a6e5')\"\n",
              "              title=\"Convert this dataframe to an interactive table.\"\n",
              "              style=\"display:none;\">\n",
              "        \n",
              "  <svg xmlns=\"http://www.w3.org/2000/svg\" height=\"24px\"viewBox=\"0 0 24 24\"\n",
              "       width=\"24px\">\n",
              "    <path d=\"M0 0h24v24H0V0z\" fill=\"none\"/>\n",
              "    <path d=\"M18.56 5.44l.94 2.06.94-2.06 2.06-.94-2.06-.94-.94-2.06-.94 2.06-2.06.94zm-11 1L8.5 8.5l.94-2.06 2.06-.94-2.06-.94L8.5 2.5l-.94 2.06-2.06.94zm10 10l.94 2.06.94-2.06 2.06-.94-2.06-.94-.94-2.06-.94 2.06-2.06.94z\"/><path d=\"M17.41 7.96l-1.37-1.37c-.4-.4-.92-.59-1.43-.59-.52 0-1.04.2-1.43.59L10.3 9.45l-7.72 7.72c-.78.78-.78 2.05 0 2.83L4 21.41c.39.39.9.59 1.41.59.51 0 1.02-.2 1.41-.59l7.78-7.78 2.81-2.81c.8-.78.8-2.07 0-2.86zM5.41 20L4 18.59l7.72-7.72 1.47 1.35L5.41 20z\"/>\n",
              "  </svg>\n",
              "      </button>\n",
              "      \n",
              "  <style>\n",
              "    .colab-df-container {\n",
              "      display:flex;\n",
              "      flex-wrap:wrap;\n",
              "      gap: 12px;\n",
              "    }\n",
              "\n",
              "    .colab-df-convert {\n",
              "      background-color: #E8F0FE;\n",
              "      border: none;\n",
              "      border-radius: 50%;\n",
              "      cursor: pointer;\n",
              "      display: none;\n",
              "      fill: #1967D2;\n",
              "      height: 32px;\n",
              "      padding: 0 0 0 0;\n",
              "      width: 32px;\n",
              "    }\n",
              "\n",
              "    .colab-df-convert:hover {\n",
              "      background-color: #E2EBFA;\n",
              "      box-shadow: 0px 1px 2px rgba(60, 64, 67, 0.3), 0px 1px 3px 1px rgba(60, 64, 67, 0.15);\n",
              "      fill: #174EA6;\n",
              "    }\n",
              "\n",
              "    [theme=dark] .colab-df-convert {\n",
              "      background-color: #3B4455;\n",
              "      fill: #D2E3FC;\n",
              "    }\n",
              "\n",
              "    [theme=dark] .colab-df-convert:hover {\n",
              "      background-color: #434B5C;\n",
              "      box-shadow: 0px 1px 3px 1px rgba(0, 0, 0, 0.15);\n",
              "      filter: drop-shadow(0px 1px 2px rgba(0, 0, 0, 0.3));\n",
              "      fill: #FFFFFF;\n",
              "    }\n",
              "  </style>\n",
              "\n",
              "      <script>\n",
              "        const buttonEl =\n",
              "          document.querySelector('#df-9e982f5f-9955-455a-942c-fec99109a6e5 button.colab-df-convert');\n",
              "        buttonEl.style.display =\n",
              "          google.colab.kernel.accessAllowed ? 'block' : 'none';\n",
              "\n",
              "        async function convertToInteractive(key) {\n",
              "          const element = document.querySelector('#df-9e982f5f-9955-455a-942c-fec99109a6e5');\n",
              "          const dataTable =\n",
              "            await google.colab.kernel.invokeFunction('convertToInteractive',\n",
              "                                                     [key], {});\n",
              "          if (!dataTable) return;\n",
              "\n",
              "          const docLinkHtml = 'Like what you see? Visit the ' +\n",
              "            '<a target=\"_blank\" href=https://colab.research.google.com/notebooks/data_table.ipynb>data table notebook</a>'\n",
              "            + ' to learn more about interactive tables.';\n",
              "          element.innerHTML = '';\n",
              "          dataTable['output_type'] = 'display_data';\n",
              "          await google.colab.output.renderOutput(dataTable, element);\n",
              "          const docLink = document.createElement('div');\n",
              "          docLink.innerHTML = docLinkHtml;\n",
              "          element.appendChild(docLink);\n",
              "        }\n",
              "      </script>\n",
              "    </div>\n",
              "  </div>\n",
              "  "
            ]
          },
          "metadata": {},
          "execution_count": 2
        }
      ],
      "source": [
        "import pandas as pd\n",
        "data = {'B': [7, 0, 0, 0,0], 'C': [57, 49, 0, 0,0],'D':[36,39,22,0,0],'E':[42,35,14,5,0],'F':[32,23,25,10,11]}\n",
        "data1 = {'B': [7, 57, 36, 42,32], 'C': [57, 49, 29, 35,23],'D':[36,39,22,14,25],'E':[42,35,14,5,10],'F':[32,23,25,10,11]}\n",
        "pd.DataFrame.from_dict(data)"
      ]
    },
    {
      "cell_type": "code",
      "execution_count": null,
      "id": "b343148c",
      "metadata": {
        "id": "b343148c",
        "colab": {
          "base_uri": "https://localhost:8080/"
        },
        "outputId": "dd8d7ebb-5d94-4ac5-e232-7f0dbe62b99c"
      },
      "outputs": [
        {
          "output_type": "execute_result",
          "data": {
            "text/plain": [
              "array([[ 0,  7, 57, 36, 42, 32],\n",
              "       [ 7,  0, 49, 29, 35, 23],\n",
              "       [57, 49,  0, 22, 14, 25],\n",
              "       [36, 29, 22,  0,  5, 10],\n",
              "       [42, 35, 14,  5,  0, 11],\n",
              "       [32, 23, 25, 10, 11,  0]])"
            ]
          },
          "metadata": {},
          "execution_count": 3
        }
      ],
      "source": [
        "import numpy as np\n",
        "data_matrix = np.array([[7, 0, 0, 0,0], [57, 49, 0, 0,0],[36,39,22,0,0],[42,35,14,5,0],[32,23,25,10,11]])\n",
        "data_matrix1 = np.array([[0,7, 57, 36, 42,32],[7,0, 49, 29, 35,23], [57, 49,0, 22, 14,25],[36,29,22,0,5,10],[42,35,14,5,0,11],[32,23,25,10,11,0]])\n",
        "\n",
        "data_matrix1"
      ]
    },
    {
      "cell_type": "code",
      "execution_count": null,
      "id": "ea0d09df",
      "metadata": {
        "id": "ea0d09df",
        "colab": {
          "base_uri": "https://localhost:8080/"
        },
        "outputId": "f84c7961-10bc-415d-95e3-4b36baa501c0"
      },
      "outputs": [
        {
          "output_type": "execute_result",
          "data": {
            "text/plain": [
              "array([ 7, 57, 36, 42, 32, 49, 29, 35, 23, 22, 14, 25,  5, 10, 11])"
            ]
          },
          "metadata": {},
          "execution_count": 4
        }
      ],
      "source": [
        "import scipy.spatial.distance as ssd\n",
        "# convert the redundant n*n square matrix form into a condensed nC2 array\n",
        "distArray = ssd.squareform(data_matrix1)\n",
        "distArray"
      ]
    },
    {
      "cell_type": "code",
      "execution_count": null,
      "id": "4a18fa9f",
      "metadata": {
        "id": "4a18fa9f",
        "colab": {
          "base_uri": "https://localhost:8080/",
          "height": 447
        },
        "outputId": "55af629a-be1f-4a26-c9c1-69bdb9994519"
      },
      "outputs": [
        {
          "output_type": "display_data",
          "data": {
            "text/plain": [
              "<Figure size 720x504 with 1 Axes>"
            ],
            "image/png": "[encoded data removed]"
          },
          "metadata": {
            "needs_background": "light"
          }
        }
      ],
      "source": [
        "from scipy.cluster.hierarchy import linkage, dendrogram\n",
        "algName = \"AgglomerativeClustering\"\n",
        "\n",
        "Z = linkage(distArray,metric=\"euclidean\", method=\"single\")\n",
        "\n",
        "plt.figure(figsize=(10,7))\n",
        "lst = list(range(1,30))\n",
        "plt.yticks(lst,lst)\n",
        "plt.grid()\n",
        "plt.title(algName+\" : \"+\"ward\")\n",
        "R = dendrogram(Z)"
      ]
    },
    {
      "cell_type": "code",
      "execution_count": null,
      "id": "88f05d3a",
      "metadata": {
        "id": "88f05d3a",
        "colab": {
          "base_uri": "https://localhost:8080/",
          "height": 1000
        },
        "outputId": "dc2472b3-5456-4739-954d-a23e6a9cbd95"
      },
      "outputs": [
        {
          "output_type": "display_data",
          "data": {
            "text/plain": [
              "<Figure size 720x1440 with 1 Axes>"
            ],
            "image/png": "[encoded data removed]"
          },
          "metadata": {
            "needs_background": "light"
          }
        }
      ],
      "source": [
        "from scipy.cluster.hierarchy import linkage, dendrogram\n",
        "algName = \"AgglomerativeClustering\"\n",
        "\n",
        "Z = linkage(distArray,metric=\"euclidean\", method=\"average\")\n",
        "\n",
        "plt.figure(figsize=(10,20))\n",
        "lst = list(range(1,60))\n",
        "plt.yticks(lst,lst)\n",
        "plt.grid()\n",
        "plt.title(algName+\" : \"+\"ward\")\n",
        "R = dendrogram(Z)"
      ]
    },
    {
      "cell_type": "code",
      "execution_count": null,
      "id": "3a033bc8",
      "metadata": {
        "id": "3a033bc8",
        "outputId": "10148fc2-1d56-4101-b194-38f6d3062d73",
        "colab": {
          "base_uri": "https://localhost:8080/"
        }
      },
      "outputs": [
        {
          "output_type": "execute_result",
          "data": {
            "text/plain": [
              "AgglomerativeClustering(affinity='precomputed', linkage='single', n_clusters=4)"
            ]
          },
          "metadata": {},
          "execution_count": 7
        }
      ],
      "source": [
        "from sklearn.cluster import AgglomerativeClustering\n",
        "agg_clustering = AgglomerativeClustering(n_clusters=4,affinity='precomputed',linkage='single').fit(data_matrix1)\n",
        "agg_clustering"
      ]
    },
    {
      "cell_type": "code",
      "execution_count": null,
      "id": "c6e1770a",
      "metadata": {
        "id": "c6e1770a"
      },
      "outputs": [],
      "source": []
    }
  ],
  "metadata": {
    "kernelspec": {
      "display_name": "Python 3 (ipykernel)",
      "language": "python",
      "name": "python3"
    },
    "language_info": {
      "codemirror_mode": {
        "name": "ipython",
        "version": 3
      },
      "file_extension": ".py",
      "mimetype": "text/x-python",
      "name": "python",
      "nbconvert_exporter": "python",
      "pygments_lexer": "ipython3",
      "version": "3.9.12"
    },
    "colab": {
      "provenance": []
    }
  },
  "nbformat": 4,
  "nbformat_minor": 5
}