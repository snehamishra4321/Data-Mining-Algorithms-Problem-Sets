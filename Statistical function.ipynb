{
 "cells": [
  {
   "cell_type": "code",
   "execution_count": 1,
   "id": "047a692a",
   "metadata": {},
   "outputs": [],
   "source": [
    "import numpy as np\n",
    "from scipy import stats\n",
    "import statistics\n",
    "from matplotlib import pyplot as plt"
   ]
  },
  {
   "cell_type": "markdown",
   "id": "c9e2665e",
   "metadata": {},
   "source": [
    "## Find Mean Median, mode"
   ]
  },
  {
   "cell_type": "code",
   "execution_count": 2,
   "id": "fe3d14e2",
   "metadata": {},
   "outputs": [
    {
     "name": "stdout",
     "output_type": "stream",
     "text": [
      "72.66666666666667\n",
      "72.0\n",
      "ModeResult(mode=array([72]), count=array([3]))\n",
      "38\n",
      "36.698412698412696\n"
     ]
    }
   ],
   "source": [
    "x = np.array((69, 74, 68, 73, 72, 87, 66, 70, 74, 68, 72, 89, 74, 67, 66, 71, 72, 75, 76, 78, 65))\n",
    "y = np.array((163, 175, 165, 135, 172, 160, 115, 157, 200, 132, 140, 165, 285, 92, 142, 150, 165, 182, 212, 220, 134))\n",
    "\n",
    "print(x.mean())\n",
    "print(np.median(x))\n",
    "print(stats.mode(x))\n",
    "\n",
    "# Uses (n-1) as denominator\n",
    "print(statistics.variance(x))\n",
    "# Uses (n) as denominator\n",
    "print(np.var(x))\n",
    "\n",
    "# print(sum([np.power(i-np.mean(x),2) for i in x]))\n",
    "# print(770.66/21)"
   ]
  },
  {
   "cell_type": "markdown",
   "id": "3245c5e4",
   "metadata": {},
   "source": [
    "## Covariance & Correlation calculation"
   ]
  },
  {
   "cell_type": "code",
   "execution_count": 3,
   "id": "79052fa5",
   "metadata": {},
   "outputs": [
    {
     "name": "stdout",
     "output_type": "stream",
     "text": [
      "Variance X (n) :  36.698412698412696\n",
      "Variance Y (n) :  1597.4875283446713\n",
      "Covariance (n) :  94.55555555555556\n",
      "Correlation :  0.39052125143988037\n"
     ]
    }
   ],
   "source": [
    "# Variance of X using n denominator\n",
    "var_x = sum([np.power(i-np.mean(x),2) for i in x]) / len(x)\n",
    "print(\"Variance X (n) : \",var_x)\n",
    "\n",
    "# Variance of Y using n denominator\n",
    "var_y = sum([np.power(i-np.mean(y),2) for i in y]) / len(y)\n",
    "print(\"Variance Y (n) : \",var_y)\n",
    "\n",
    "# Covariance using n denominator\n",
    "covar = sum([(x[i] - x.mean())*(y[i] - y.mean()) for i in range(len(x))]) / len(y)\n",
    "print(\"Covariance (n) : \", covar)\n",
    "\n",
    "# Correlation between X and Y (n in denominator)\n",
    "corr = covar/np.sqrt(var_x * var_y)\n",
    "print(\"Correlation : \",corr)"
   ]
  },
  {
   "cell_type": "code",
   "execution_count": 4,
   "id": "1cf7cda3",
   "metadata": {},
   "outputs": [],
   "source": [
    "# PCA"
   ]
  },
  {
   "cell_type": "code",
   "execution_count": 5,
   "id": "3ebbaff1",
   "metadata": {},
   "outputs": [
    {
     "name": "stdout",
     "output_type": "stream",
     "text": [
      "\n",
      "Data : \n",
      " [[ 8 24]\n",
      " [ 0  2]\n",
      " [ 7 18]\n",
      " [ 9 17]\n",
      " [ 2  2]]\n",
      "\n",
      "Mean : \n",
      " [[ 5.2 12.6]]\n",
      "\n",
      "Covariance : \n",
      " [[12.56 29.48]\n",
      " [29.48 80.64]]\n",
      "\n",
      "Mean suubtracted data : \n",
      " [[  2.8  11.4]\n",
      " [ -5.2 -10.6]\n",
      " [  1.8   5.4]\n",
      " [  3.8   4.4]\n",
      " [ -3.2 -10.6]]\n",
      "\n",
      "Eigen values : \n",
      " [ 1.56898846 91.63101154]\n",
      "\n",
      "Eigen vectors : \n",
      " [[-0.93699613  0.34933973]\n",
      " [-0.34933973 -0.93699613]]\n",
      "\n",
      "New data points (centered) : \n",
      " [[-11.65990716]\n",
      " [ 11.74872561]\n",
      " [ -5.68859063]\n",
      " [ -5.45027396]\n",
      " [ 11.05004614]]\n",
      "\n",
      "New data points : \n",
      " [[-25.28262503]\n",
      " [ -1.87399226]\n",
      " [-19.3113085 ]\n",
      " [-19.07299183]\n",
      " [ -2.57267173]]\n"
     ]
    }
   ],
   "source": [
    "# Add data\n",
    "data = np.matrix([[8, 24],[0 ,2],[7, 18],[9 ,17],[2, 2]])\n",
    "print(\"\\nData : \\n\", data)\n",
    "\n",
    "n = data.shape[0]\n",
    "\n",
    "# Mean of data \n",
    "mean = data.mean(axis = 0)\n",
    "print(\"\\nMean : \\n\", mean )\n",
    "\n",
    "# Covariance of data \n",
    "covar = np.cov(data.T)*(n-1)/n\n",
    "print(\"\\nCovariance : \\n\", covar)\n",
    "\n",
    "# Mean subtracted data\n",
    "centered_data = data - data.mean(axis = 0)\n",
    "print(\"\\nMean suubtracted data : \\n\", centered_data)\n",
    "\n",
    "# Eigen Decomposition\n",
    "eig_val, eig_vec = np.linalg.eig(covar)\n",
    "print(\"\\nEigen values : \\n\",eig_val)\n",
    "print(\"\\nEigen vectors : \\n\",eig_vec.T)\n",
    "\n",
    "# Transformed_data - CHECK before using\n",
    "# Centered in new coordinate system\n",
    "new_data_centered = centered_data * np.matrix(eig_vec)[:,-1]\n",
    "print(\"\\nNew data points (centered) : \\n\", new_data_centered)\n",
    "\n",
    "# Uncentered in new coordinate system\n",
    "new_data = data * np.matrix(eig_vec)[:,-1]\n",
    "print(\"\\nNew data points : \\n\", new_data)"
   ]
  },
  {
   "cell_type": "markdown",
   "id": "ec01cddf",
   "metadata": {},
   "source": [
    "## SVD"
   ]
  },
  {
   "cell_type": "code",
   "execution_count": 6,
   "id": "b34b0f8c",
   "metadata": {},
   "outputs": [
    {
     "name": "stdout",
     "output_type": "stream",
     "text": [
      "\n",
      "SVD Decomposition - \n",
      "\n",
      "\n",
      "U : \n",
      " [[ 0.70710678 -0.70710678]\n",
      " [ 0.70710678  0.70710678]]\n",
      "\n",
      "D : \n",
      " [5. 3.]\n",
      "\n",
      "V : \n",
      " [[ 7.07106781e-01  7.07106781e-01  3.67439059e-16]\n",
      " [-2.35702260e-01  2.35702260e-01 -9.42809042e-01]\n",
      " [-6.66666667e-01  6.66666667e-01  3.33333333e-01]]\n",
      "\n",
      "\n",
      " Left Singular Matrix\n",
      "\n",
      " Mat1.Mat1.T  [[17  8]\n",
      " [ 8 17]]\n",
      "\n",
      " Eigen Values : \n",
      " [25.  9.]\n",
      "\n",
      " Eigen Vectors : \n",
      " [[ 0.70710678 -0.70710678]\n",
      " [ 0.70710678  0.70710678]]\n",
      "\n",
      "\n",
      " Right Singular Matrix\n",
      "\n",
      " Mat1.T * Mat1  [[13 12  2]\n",
      " [12 13 -2]\n",
      " [ 2 -2  8]]\n",
      "\n",
      " Eigen Values : \n",
      " [2.50000000e+01 4.69538746e-15 9.00000000e+00]\n",
      "\n",
      " Eigen Vectors : \n",
      " [[-7.07106781e-01 -6.66666667e-01  2.35702260e-01]\n",
      " [-7.07106781e-01  6.66666667e-01 -2.35702260e-01]\n",
      " [ 1.42731104e-17  3.33333333e-01  9.42809042e-01]]\n",
      "\n",
      "Sigma : \n",
      " [[5. 0.]\n",
      " [0. 3.]]\n"
     ]
    }
   ],
   "source": [
    "# # Add data\n",
    "# data = np.matrix([[8, 24],[0 ,2],[7, 18],[9 ,17],[2, 2]])\n",
    "# print(\"\\nData : \\n\", data)\n",
    "\n",
    "# n = data.shape[0]\n",
    "\n",
    "# # Mean of data \n",
    "# mean = data.mean(axis = 0)\n",
    "# print(\"\\nMean : \\n\", mean )\n",
    "\n",
    "# # Covariance of data \n",
    "# covar = np.cov(data.T)*(n-1)/n\n",
    "# print(\"\\nCovariance : \\n\", covar)\n",
    "\n",
    "# # Mean subtracted data\n",
    "# centered_data = data - data.mean(axis = 0)\n",
    "# print(\"\\nMean suubtracted data : \\n\", centered_data)\n",
    "\n",
    "# For any random matrix \n",
    "mat1 = covar\n",
    "mat1 = np.matrix([[3,2,2],[2,3,-2]])\n",
    "\n",
    "# U, D, V - SVD\n",
    "U, D, V = np.linalg.svd(mat1)\n",
    "print(\"\\nSVD Decomposition - \\n\")\n",
    "print(\"\\nU : \\n\", U)\n",
    "print(\"\\nD : \\n\", D)\n",
    "print(\"\\nV : \\n\", V)\n",
    "\n",
    "# Calculate Left vector\n",
    "print(\"\\n\\n Left Singular Matrix\")\n",
    "aaT = mat1 * mat1.T\n",
    "print(\"\\n Mat1.Mat1.T \", aaT)\n",
    "eig_val_U, eig_vec_U = np.linalg.eig(aaT)\n",
    "print(\"\\n Eigen Values : \\n\", eig_val_U)\n",
    "print(\"\\n Eigen Vectors : \\n\", eig_vec_U)\n",
    "\n",
    "# Calculate Right vector\n",
    "print(\"\\n\\n Right Singular Matrix\")\n",
    "aTa = mat1.T * mat1\n",
    "print(\"\\n Mat1.T * Mat1 \", aTa)\n",
    "eig_val_V, eig_vec_V = np.linalg.eig(aTa)\n",
    "print(\"\\n Eigen Values : \\n\", eig_val_V)\n",
    "print(\"\\n Eigen Vectors : \\n\", eig_vec_V)\n",
    "\n",
    "# Sigma matrix\n",
    "sigma = np.diag(np.sqrt(eig_val_U))\n",
    "print(\"\\nSigma : \\n\", sigma)"
   ]
  },
  {
   "cell_type": "markdown",
   "id": "af66eadc",
   "metadata": {},
   "source": [
    "## Chi-square Independence test"
   ]
  },
  {
   "cell_type": "code",
   "execution_count": 7,
   "id": "693dcb2c",
   "metadata": {},
   "outputs": [],
   "source": [
    "# Data \n",
    "data = np.matrix([\n",
    "[7,33,5],\n",
    "[24,18,8],\n",
    "[13,30,0],\n",
    "[3,7,2]]\n",
    ")\n",
    "\n",
    "sum_data = np.sum(data)\n",
    "\n",
    "expected_values = np.zeros(data.shape)\n",
    "for i in range(data.shape[0]):\n",
    "    for j in range(data.shape[1]):\n",
    "        expected_values[i][j] = np.sum(data[:,j]) * np.sum(data[i,:]) / sum_data\n",
    "    \n",
    "chi_square_value = 0\n",
    "for i in range(data.shape[0]):\n",
    "    for j in range(data.shape[1]):\n",
    "        chi_square_value += (np.power(data[i,j] - expected_values[i,j],2))/ expected_values[i,j]\n",
    "        \n",
    "Degree_of_Freedom = (data.shape[0]-1)*(data.shape[1]-1)\n",
    "\n",
    "Significance_level = 0.05\n",
    "\n",
    "# Find p_value(chi_square_value) from  table\n",
    "# If p_value< significane_level, then reject null hypothesis\n",
    "\n",
    "# max_possible_extreme_value = stats.chi2.ppf(1-.05, df=Degree_of_Freedom)"
   ]
  },
  {
   "cell_type": "code",
   "execution_count": 8,
   "id": "8184ac23",
   "metadata": {},
   "outputs": [
    {
     "data": {
      "text/plain": [
       "['__call__',\n",
       " '__class__',\n",
       " '__delattr__',\n",
       " '__dict__',\n",
       " '__dir__',\n",
       " '__doc__',\n",
       " '__eq__',\n",
       " '__format__',\n",
       " '__ge__',\n",
       " '__getattribute__',\n",
       " '__getstate__',\n",
       " '__gt__',\n",
       " '__hash__',\n",
       " '__init__',\n",
       " '__init_subclass__',\n",
       " '__le__',\n",
       " '__lt__',\n",
       " '__module__',\n",
       " '__ne__',\n",
       " '__new__',\n",
       " '__reduce__',\n",
       " '__reduce_ex__',\n",
       " '__repr__',\n",
       " '__setattr__',\n",
       " '__setstate__',\n",
       " '__sizeof__',\n",
       " '__str__',\n",
       " '__subclasshook__',\n",
       " '__weakref__',\n",
       " '_argcheck',\n",
       " '_argcheck_rvs',\n",
       " '_attach_argparser_methods',\n",
       " '_attach_methods',\n",
       " '_cdf',\n",
       " '_cdf_single',\n",
       " '_cdfvec',\n",
       " '_construct_argparser',\n",
       " '_construct_default_doc',\n",
       " '_construct_doc',\n",
       " '_ctor_param',\n",
       " '_entropy',\n",
       " '_fit_loc_scale_support',\n",
       " '_fitstart',\n",
       " '_get_support',\n",
       " '_isf',\n",
       " '_logcdf',\n",
       " '_logpdf',\n",
       " '_logsf',\n",
       " '_mom0_sc',\n",
       " '_mom1_sc',\n",
       " '_mom_integ0',\n",
       " '_mom_integ1',\n",
       " '_moment_error',\n",
       " '_munp',\n",
       " '_nnlf',\n",
       " '_nnlf_and_penalty',\n",
       " '_open_support_mask',\n",
       " '_parse_arg_template',\n",
       " '_parse_args',\n",
       " '_parse_args_rvs',\n",
       " '_parse_args_stats',\n",
       " '_pdf',\n",
       " '_penalized_nnlf',\n",
       " '_ppf',\n",
       " '_ppf_single',\n",
       " '_ppf_to_solve',\n",
       " '_ppfvec',\n",
       " '_random_state',\n",
       " '_reduce_func',\n",
       " '_rvs',\n",
       " '_rvs_size_warned',\n",
       " '_rvs_uses_size_attribute',\n",
       " '_sf',\n",
       " '_stats',\n",
       " '_stats_has_moments',\n",
       " '_support_mask',\n",
       " '_unpack_loc_scale',\n",
       " '_updated_ctor_param',\n",
       " 'a',\n",
       " 'b',\n",
       " 'badvalue',\n",
       " 'cdf',\n",
       " 'entropy',\n",
       " 'expect',\n",
       " 'extradoc',\n",
       " 'fit',\n",
       " 'fit_loc_scale',\n",
       " 'freeze',\n",
       " 'generic_moment',\n",
       " 'interval',\n",
       " 'isf',\n",
       " 'logcdf',\n",
       " 'logpdf',\n",
       " 'logsf',\n",
       " 'mean',\n",
       " 'median',\n",
       " 'moment',\n",
       " 'moment_type',\n",
       " 'name',\n",
       " 'nnlf',\n",
       " 'numargs',\n",
       " 'pdf',\n",
       " 'ppf',\n",
       " 'random_state',\n",
       " 'rvs',\n",
       " 'sf',\n",
       " 'shapes',\n",
       " 'stats',\n",
       " 'std',\n",
       " 'support',\n",
       " 'var',\n",
       " 'vecentropy',\n",
       " 'xtol']"
      ]
     },
     "execution_count": 8,
     "metadata": {},
     "output_type": "execute_result"
    }
   ],
   "source": [
    "dir(stats.chi2)"
   ]
  },
  {
   "cell_type": "code",
   "execution_count": 9,
   "id": "e2eacfb9",
   "metadata": {},
   "outputs": [],
   "source": [
    "p_value = stats.chi2.pdf(chi_square_value,Degree_of_Freedom)"
   ]
  },
  {
   "cell_type": "code",
   "execution_count": 10,
   "id": "b9c6e81d",
   "metadata": {},
   "outputs": [
    {
     "data": {
      "text/plain": [
       "4.1778745093195613e-01"
      ]
     },
     "execution_count": 10,
     "metadata": {},
     "output_type": "execute_result"
    }
   ],
   "source": [
    "stats.chi2.ppf(0.0013, df=Degree_of_Freedom)"
   ]
  },
  {
   "cell_type": "code",
   "execution_count": 11,
   "id": "e30e5221",
   "metadata": {},
   "outputs": [
    {
     "data": {
      "text/plain": [
       "1.1091808276696606e-01"
      ]
     },
     "execution_count": 11,
     "metadata": {},
     "output_type": "execute_result"
    }
   ],
   "source": [
    " stats.chi2.pdf(2.4706106836607007,6)"
   ]
  },
  {
   "cell_type": "code",
   "execution_count": 12,
   "id": "94881421",
   "metadata": {},
   "outputs": [
    {
     "data": {
      "text/plain": [
       "21.799150647994043"
      ]
     },
     "execution_count": 12,
     "metadata": {},
     "output_type": "execute_result"
    }
   ],
   "source": [
    "chi_square_value"
   ]
  },
  {
   "cell_type": "code",
   "execution_count": null,
   "id": "fa2c37bd",
   "metadata": {},
   "outputs": [],
   "source": []
  }
 ],
 "metadata": {
  "kernelspec": {
   "display_name": "Python 3.9.12 ('base')",
   "language": "python",
   "name": "python3"
  },
  "language_info": {
   "codemirror_mode": {
    "name": "ipython",
    "version": 3
   },
   "file_extension": ".py",
   "mimetype": "text/x-python",
   "name": "python",
   "nbconvert_exporter": "python",
   "pygments_lexer": "ipython3",
   "version": "3.9.12"
  },
  "vscode": {
   "interpreter": {
    "hash": "ec82f12a2cb47047b534e9c669340dcebb498bf61f15a6577c32df05515dbebf"
   }
  }
 },
 "nbformat": 4,
 "nbformat_minor": 5
}
