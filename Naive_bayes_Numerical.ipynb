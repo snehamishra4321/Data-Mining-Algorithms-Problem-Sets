{
  "cells": [
    {
      "cell_type": "code",
      "execution_count": null,
      "id": "548346b2",
      "metadata": {
        "id": "548346b2"
      },
      "outputs": [],
      "source": [
        "import numpy as np\n",
        "import scipy.stats"
      ]
    },
    {
      "cell_type": "code",
      "execution_count": null,
      "id": "d7866faf",
      "metadata": {
        "id": "d7866faf"
      },
      "outputs": [],
      "source": [
        "# x = [25,20,14,24,19,12,44,17,15,18]\n",
        "x = [25.1,20.7,24.3,19.4,31.9,15.0]\n",
        "# x = [17,18,19]"
      ]
    },
    {
      "cell_type": "code",
      "execution_count": null,
      "id": "ac195e8a",
      "metadata": {
        "id": "ac195e8a",
        "outputId": "5684e557-8a61-4b80-eab2-16512ff1ad8c",
        "colab": {
          "base_uri": "https://localhost:8080/"
        }
      },
      "outputs": [
        {
          "output_type": "stream",
          "name": "stdout",
          "text": [
            "Mean :  22.733333333333334\n",
            "Sigma :  5.2778362569859585\n"
          ]
        }
      ],
      "source": [
        "mean = np.mean(x)\n",
        "sigma = np.std(x)\n",
        "print(\"Mean : \", mean)\n",
        "print(\"Sigma : \", sigma)\n"
      ]
    },
    {
      "cell_type": "code",
      "execution_count": null,
      "id": "96d7fbaa",
      "metadata": {
        "id": "96d7fbaa",
        "outputId": "2c1ff71f-7b97-4aed-9976-f91a96abcad5",
        "colab": {
          "base_uri": "https://localhost:8080/"
        }
      },
      "outputs": [
        {
          "output_type": "execute_result",
          "data": {
            "text/plain": [
              "0.07529332437944582"
            ]
          },
          "metadata": {},
          "execution_count": 6
        }
      ],
      "source": [
        "# Given a value x_test normal distribution value is \n",
        "x_test = 23.2\n",
        "scipy.stats.norm(mean, sigma).pdf(x_test)"
      ]
    },
    {
      "cell_type": "code",
      "source": [
        "0.07529332437944582*0.6"
      ],
      "metadata": {
        "id": "ZV4VGxd_bkKw",
        "outputId": "88eb8161-0a7f-4d26-922c-675f1e64a8cf",
        "colab": {
          "base_uri": "https://localhost:8080/"
        }
      },
      "id": "ZV4VGxd_bkKw",
      "execution_count": null,
      "outputs": [
        {
          "output_type": "execute_result",
          "data": {
            "text/plain": [
              "0.04517599462766749"
            ]
          },
          "metadata": {},
          "execution_count": 7
        }
      ]
    },
    {
      "cell_type": "code",
      "source": [
        "######Bayes Theorem Below PLease Ignore If not asked"
      ],
      "metadata": {
        "id": "3gv6QngHhti3"
      },
      "id": "3gv6QngHhti3",
      "execution_count": null,
      "outputs": []
    },
    {
      "cell_type": "code",
      "source": [
        "mu = np.matrix([[5.01,3.42], [6.26, 2.87]])\n",
        "\n",
        "cov = np.array([[[1,0],[0,1]], [[1,0],[0,1]],[[1,0],[0,1]]], dtype='float')\n",
        "\n",
        "cov = np.array([[[0.122,0.098],[0.098,0.142]], [[0.435,0.121],[0.121,0.110]]], dtype='float')\n",
        "cov"
      ],
      "metadata": {
        "colab": {
          "base_uri": "https://localhost:8080/"
        },
        "id": "vA9akx95XQtJ",
        "outputId": "d4e0e6eb-1eba-4300-f6fc-002b4d933c2b"
      },
      "id": "vA9akx95XQtJ",
      "execution_count": null,
      "outputs": [
        {
          "output_type": "execute_result",
          "data": {
            "text/plain": [
              "array([[[0.122, 0.098],\n",
              "        [0.098, 0.142]],\n",
              "\n",
              "       [[0.435, 0.121],\n",
              "        [0.121, 0.11 ]]])"
            ]
          },
          "metadata": {},
          "execution_count": 6
        }
      ]
    },
    {
      "cell_type": "code",
      "source": [
        "from sklearn import datasets\n",
        "from sklearn.decomposition import PCA\n",
        "\n",
        "# import some data to play with\n",
        "iris = datasets.load_iris()\n",
        "x = iris.data[:, :2]  # we only take the first two features.\n",
        "y = iris.target"
      ],
      "metadata": {
        "id": "af_JW98Ma1cU"
      },
      "id": "af_JW98Ma1cU",
      "execution_count": null,
      "outputs": []
    },
    {
      "cell_type": "code",
      "source": [
        "\n",
        "def bv_normal(x, mu, cov):\n",
        "    \n",
        "    # Exponential Term\n",
        "    exp_ = np.matrix(x-mu)*np.linalg.inv(cov)*np.matrix(x-mu).T\n",
        "    # Coefficient term\n",
        "    coeff = 1/(np.power(2*np.pi,d/2) *np.sqrt(np.linalg.det(cov)) )\n",
        "    \n",
        "    #Calculate f(x_i)\n",
        "    f_xi = coeff * np.exp(- exp_ / 2)\n",
        "    \n",
        "    return f_xi.item()"
      ],
      "metadata": {
        "id": "8P35PMwfXAe3"
      },
      "id": "8P35PMwfXAe3",
      "execution_count": null,
      "outputs": []
    },
    {
      "cell_type": "code",
      "source": [
        "d = 2\n",
        "\n",
        "nc = 2\n",
        "\n",
        "n = x.shape[0]\n",
        "P_c = np.array([1/3,10/15])\n",
        "x= np.array([[6.75,4.25]])\n",
        "x"
      ],
      "metadata": {
        "colab": {
          "base_uri": "https://localhost:8080/"
        },
        "id": "X7sNK8rwaIW_",
        "outputId": "9beeeed2-a719-4325-e5a9-957eed344484"
      },
      "id": "X7sNK8rwaIW_",
      "execution_count": null,
      "outputs": [
        {
          "output_type": "execute_result",
          "data": {
            "text/plain": [
              "array([[6.75, 4.25]])"
            ]
          },
          "metadata": {},
          "execution_count": 9
        }
      ]
    },
    {
      "cell_type": "code",
      "source": [
        "X = "
      ],
      "metadata": {
        "id": "vi-LO2b3Wjnd"
      },
      "id": "vi-LO2b3Wjnd",
      "execution_count": null,
      "outputs": []
    },
    {
      "cell_type": "code",
      "source": [
        "mu[0]"
      ],
      "metadata": {
        "colab": {
          "base_uri": "https://localhost:8080/"
        },
        "id": "iW6evjpQggmb",
        "outputId": "86297f3c-cac8-4106-f66a-6556d6ad9adb"
      },
      "id": "iW6evjpQggmb",
      "execution_count": null,
      "outputs": [
        {
          "output_type": "execute_result",
          "data": {
            "text/plain": [
              "matrix([[5.01, 3.42]])"
            ]
          },
          "metadata": {},
          "execution_count": 10
        }
      ]
    },
    {
      "cell_type": "code",
      "source": [
        "bv_normal(x, mu[0], cov[0])*P_c[0] "
      ],
      "metadata": {
        "colab": {
          "base_uri": "https://localhost:8080/"
        },
        "id": "yANx9I5Lf-FX",
        "outputId": "a7e52d2c-e82a-4a31-cd97-765ee8668f6c"
      },
      "id": "yANx9I5Lf-FX",
      "execution_count": null,
      "outputs": [
        {
          "output_type": "execute_result",
          "data": {
            "text/plain": [
              "1.9324661025622262e-07"
            ]
          },
          "metadata": {},
          "execution_count": 11
        }
      ]
    },
    {
      "cell_type": "code",
      "source": [
        "bv_normal(x, mu[1], cov[1])*P_c[1] "
      ],
      "metadata": {
        "colab": {
          "base_uri": "https://localhost:8080/"
        },
        "id": "0SLmLd8_hALZ",
        "outputId": "e2200e2c-54f1-4ccb-a549-354351e44457"
      },
      "id": "0SLmLd8_hALZ",
      "execution_count": null,
      "outputs": [
        {
          "output_type": "execute_result",
          "data": {
            "text/plain": [
              "1.7602659472522413e-05"
            ]
          },
          "metadata": {},
          "execution_count": 12
        }
      ]
    },
    {
      "cell_type": "code",
      "source": [
        "P_c[0] "
      ],
      "metadata": {
        "colab": {
          "base_uri": "https://localhost:8080/"
        },
        "id": "tzwgi4kDg7U6",
        "outputId": "44853993-1b11-4a4e-b193-770bba9f85bb"
      },
      "id": "tzwgi4kDg7U6",
      "execution_count": null,
      "outputs": [
        {
          "output_type": "execute_result",
          "data": {
            "text/plain": [
              "0.3333333333333333"
            ]
          },
          "metadata": {},
          "execution_count": 13
        }
      ]
    },
    {
      "cell_type": "code",
      "source": [
        "import matplotlib.pyplot as plt\n",
        "from scipy.stats import multivariate_normal\n",
        "#x = (1,1,1)\n",
        "#y = multivariate_normal.pdf(x, mean=2.5, cov=0.5);\n"
      ],
      "metadata": {
        "id": "BsmrWtbSP6C-"
      },
      "id": "BsmrWtbSP6C-",
      "execution_count": null,
      "outputs": []
    },
    {
      "cell_type": "code",
      "source": [],
      "metadata": {
        "id": "-wNNJ0RBhOPW"
      },
      "id": "-wNNJ0RBhOPW",
      "execution_count": null,
      "outputs": []
    }
  ],
  "metadata": {
    "kernelspec": {
      "display_name": "Python 3 (ipykernel)",
      "language": "python",
      "name": "python3"
    },
    "language_info": {
      "codemirror_mode": {
        "name": "ipython",
        "version": 3
      },
      "file_extension": ".py",
      "mimetype": "text/x-python",
      "name": "python",
      "nbconvert_exporter": "python",
      "pygments_lexer": "ipython3",
      "version": "3.9.12"
    },
    "colab": {
      "provenance": []
    }
  },
  "nbformat": 4,
  "nbformat_minor": 5
}