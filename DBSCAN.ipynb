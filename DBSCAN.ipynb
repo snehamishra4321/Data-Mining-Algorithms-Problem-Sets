{
  "cells": [
    {
      "cell_type": "code",
      "execution_count": 24,
      "metadata": {
        "id": "TCeI_5wiBuJW"
      },
      "outputs": [],
      "source": [
        "import numpy as np\n",
        "import pandas as pd\n",
        "D = np.array([[4,10], [5,11], [10,8], [3,8], [6,8], [9,5], [8,3], [13,8], [1,7], [2,7], [6,7], [8,7], [12,8], [13,7], [8,6], [14,6], [6,3], [7,5], [10,4], [4,3], [3,6], [9,2], [11,3], [15,4], [13,3], [13,2]])"
      ]
    },
    {
      "cell_type": "code",
      "execution_count": 3,
      "metadata": {
        "colab": {
          "base_uri": "https://localhost:8080/"
        },
        "id": "uZpq6iHuC2BE",
        "outputId": "3700af0c-ffd4-4ca0-ca6f-87b8a5776a31"
      },
      "outputs": [
        {
          "name": "stdout",
          "output_type": "stream",
          "text": [
            "[array([ 4, 10]) array([ 4, 10]) 0.0 ... array([13,  2]) array([13,  2])\n",
            " 0.0]\n"
          ]
        },
        {
          "name": "stderr",
          "output_type": "stream",
          "text": [
            "<__array_function__ internals>:5: VisibleDeprecationWarning: Creating an ndarray from ragged nested sequences (which is a list-or-tuple of lists-or-tuples-or ndarrays with different lengths or shapes) is deprecated. If you meant to do this, you must specify 'dtype=object' when creating the ndarray.\n"
          ]
        }
      ],
      "source": [
        "res = np.array([])\n",
        "for i in D:\n",
        "  for j in D:\n",
        "    # if i[0] != j[0] or i[1] != j[1]:\n",
        "      res = np.append(res,[i,j,np.sqrt((i[0]-j[0])**2 +(i[1]-j[1])**2)],axis = 0)\n",
        "print(res)"
      ]
    },
    {
      "cell_type": "code",
      "execution_count": 4,
      "metadata": {
        "colab": {
          "base_uri": "https://localhost:8080/"
        },
        "id": "GF2MQdkyUFz4",
        "outputId": "ec1209a8-6f46-4222-82b6-a997e6240064"
      },
      "outputs": [
        {
          "data": {
            "text/plain": [
              "array([array([ 4, 10]), array([ 4, 10]), 0.0, ..., array([13,  2]),\n",
              "       array([13,  2]), 0.0], dtype=object)"
            ]
          },
          "execution_count": 4,
          "metadata": {},
          "output_type": "execute_result"
        }
      ],
      "source": [
        "res"
      ]
    },
    {
      "cell_type": "code",
      "execution_count": 5,
      "metadata": {
        "id": "SQQOqzWHGaRe"
      },
      "outputs": [],
      "source": [
        "\n",
        "#df = pd.DataFrame(D, columns=['i', 'j'], index=['a', 'b', 'c', 'd', 'e', 'f', 'g', 'h', 'i', 'j', 'k', 'l', 'm', 'n', 'o', 'p', 'q', 'r', 's', 't', 'u', 'v', 'w', 'x', 'y', 'z'])\n",
        "df = pd.DataFrame(D, columns=['i', 'j'])"
      ]
    },
    {
      "cell_type": "code",
      "execution_count": 6,
      "metadata": {
        "colab": {
          "base_uri": "https://localhost:8080/",
          "height": 206
        },
        "id": "7VLgQSlTGr2_",
        "outputId": "a5039d39-c8e2-4756-a579-efe979561a96"
      },
      "outputs": [
        {
          "data": {
            "text/html": [
              "<div>\n",
              "<style scoped>\n",
              "    .dataframe tbody tr th:only-of-type {\n",
              "        vertical-align: middle;\n",
              "    }\n",
              "\n",
              "    .dataframe tbody tr th {\n",
              "        vertical-align: top;\n",
              "    }\n",
              "\n",
              "    .dataframe thead th {\n",
              "        text-align: right;\n",
              "    }\n",
              "</style>\n",
              "<table border=\"1\" class=\"dataframe\">\n",
              "  <thead>\n",
              "    <tr style=\"text-align: right;\">\n",
              "      <th></th>\n",
              "      <th>i</th>\n",
              "      <th>j</th>\n",
              "    </tr>\n",
              "  </thead>\n",
              "  <tbody>\n",
              "    <tr>\n",
              "      <th>0</th>\n",
              "      <td>4</td>\n",
              "      <td>10</td>\n",
              "    </tr>\n",
              "    <tr>\n",
              "      <th>1</th>\n",
              "      <td>5</td>\n",
              "      <td>11</td>\n",
              "    </tr>\n",
              "    <tr>\n",
              "      <th>2</th>\n",
              "      <td>10</td>\n",
              "      <td>8</td>\n",
              "    </tr>\n",
              "    <tr>\n",
              "      <th>3</th>\n",
              "      <td>3</td>\n",
              "      <td>8</td>\n",
              "    </tr>\n",
              "    <tr>\n",
              "      <th>4</th>\n",
              "      <td>6</td>\n",
              "      <td>8</td>\n",
              "    </tr>\n",
              "  </tbody>\n",
              "</table>\n",
              "</div>"
            ],
            "text/plain": [
              "    i   j\n",
              "0   4  10\n",
              "1   5  11\n",
              "2  10   8\n",
              "3   3   8\n",
              "4   6   8"
            ]
          },
          "execution_count": 6,
          "metadata": {},
          "output_type": "execute_result"
        }
      ],
      "source": [
        "df.head()"
      ]
    },
    {
      "cell_type": "code",
      "execution_count": 25,
      "metadata": {
        "id": "cTUz9kHSIZFk"
      },
      "outputs": [
        {
          "data": {
            "text/plain": [
              "array([-1, -1,  3,  0,  1,  1,  2,  3,  0,  0,  1,  1,  3,  3,  1,  3,  2,\n",
              "        1,  1,  2,  0,  2,  1, -1,  1,  1])"
            ]
          },
          "execution_count": 25,
          "metadata": {},
          "output_type": "execute_result"
        }
      ],
      "source": [
        "from sklearn.cluster import DBSCAN\n",
        "dbscan = DBSCAN(eps = 2, min_samples = 3)\n",
        "model = dbscan.fit(df)\n",
        "model.labels_"
      ]
    },
    {
      "cell_type": "code",
      "execution_count": 11,
      "metadata": {
        "colab": {
          "base_uri": "https://localhost:8080/",
          "height": 568
        },
        "id": "hDY4bmUDX-tm",
        "outputId": "78effd9a-2855-4cb6-a3f3-7ec8e13d8cc3"
      },
      "outputs": [
        {
          "name": "stdout",
          "output_type": "stream",
          "text": [
            "[ 3  5  6  7  9 10 11 12 13 14 16 17 18 20 22 24]\n"
          ]
        },
        {
          "data": {
            "text/html": [
              "<div>\n",
              "<style scoped>\n",
              "    .dataframe tbody tr th:only-of-type {\n",
              "        vertical-align: middle;\n",
              "    }\n",
              "\n",
              "    .dataframe tbody tr th {\n",
              "        vertical-align: top;\n",
              "    }\n",
              "\n",
              "    .dataframe thead th {\n",
              "        text-align: right;\n",
              "    }\n",
              "</style>\n",
              "<table border=\"1\" class=\"dataframe\">\n",
              "  <thead>\n",
              "    <tr style=\"text-align: right;\">\n",
              "      <th></th>\n",
              "      <th>i</th>\n",
              "      <th>j</th>\n",
              "    </tr>\n",
              "  </thead>\n",
              "  <tbody>\n",
              "    <tr>\n",
              "      <th>3</th>\n",
              "      <td>3</td>\n",
              "      <td>8</td>\n",
              "    </tr>\n",
              "    <tr>\n",
              "      <th>5</th>\n",
              "      <td>9</td>\n",
              "      <td>5</td>\n",
              "    </tr>\n",
              "    <tr>\n",
              "      <th>6</th>\n",
              "      <td>8</td>\n",
              "      <td>3</td>\n",
              "    </tr>\n",
              "    <tr>\n",
              "      <th>7</th>\n",
              "      <td>13</td>\n",
              "      <td>8</td>\n",
              "    </tr>\n",
              "    <tr>\n",
              "      <th>9</th>\n",
              "      <td>2</td>\n",
              "      <td>7</td>\n",
              "    </tr>\n",
              "    <tr>\n",
              "      <th>10</th>\n",
              "      <td>6</td>\n",
              "      <td>7</td>\n",
              "    </tr>\n",
              "    <tr>\n",
              "      <th>11</th>\n",
              "      <td>8</td>\n",
              "      <td>7</td>\n",
              "    </tr>\n",
              "    <tr>\n",
              "      <th>12</th>\n",
              "      <td>12</td>\n",
              "      <td>8</td>\n",
              "    </tr>\n",
              "    <tr>\n",
              "      <th>13</th>\n",
              "      <td>13</td>\n",
              "      <td>7</td>\n",
              "    </tr>\n",
              "    <tr>\n",
              "      <th>14</th>\n",
              "      <td>8</td>\n",
              "      <td>6</td>\n",
              "    </tr>\n",
              "    <tr>\n",
              "      <th>16</th>\n",
              "      <td>6</td>\n",
              "      <td>3</td>\n",
              "    </tr>\n",
              "    <tr>\n",
              "      <th>17</th>\n",
              "      <td>7</td>\n",
              "      <td>5</td>\n",
              "    </tr>\n",
              "    <tr>\n",
              "      <th>18</th>\n",
              "      <td>10</td>\n",
              "      <td>4</td>\n",
              "    </tr>\n",
              "    <tr>\n",
              "      <th>20</th>\n",
              "      <td>3</td>\n",
              "      <td>6</td>\n",
              "    </tr>\n",
              "    <tr>\n",
              "      <th>22</th>\n",
              "      <td>11</td>\n",
              "      <td>3</td>\n",
              "    </tr>\n",
              "    <tr>\n",
              "      <th>24</th>\n",
              "      <td>13</td>\n",
              "      <td>3</td>\n",
              "    </tr>\n",
              "  </tbody>\n",
              "</table>\n",
              "</div>"
            ],
            "text/plain": [
              "     i  j\n",
              "3    3  8\n",
              "5    9  5\n",
              "6    8  3\n",
              "7   13  8\n",
              "9    2  7\n",
              "10   6  7\n",
              "11   8  7\n",
              "12  12  8\n",
              "13  13  7\n",
              "14   8  6\n",
              "16   6  3\n",
              "17   7  5\n",
              "18  10  4\n",
              "20   3  6\n",
              "22  11  3\n",
              "24  13  3"
            ]
          },
          "execution_count": 11,
          "metadata": {},
          "output_type": "execute_result"
        }
      ],
      "source": [
        "# Finding core points by model object sklearn\n",
        "print(model.core_sample_indices_)\n",
        "df.iloc[model.core_sample_indices_]"
      ]
    },
    {
      "cell_type": "code",
      "execution_count": 12,
      "metadata": {
        "colab": {
          "base_uri": "https://localhost:8080/",
          "height": 864
        },
        "id": "i2xxRCWTVa8q",
        "outputId": "0978f7a9-2e62-4905-d9a6-2ca2f02ce605"
      },
      "outputs": [
        {
          "data": {
            "text/html": [
              "<div>\n",
              "<style scoped>\n",
              "    .dataframe tbody tr th:only-of-type {\n",
              "        vertical-align: middle;\n",
              "    }\n",
              "\n",
              "    .dataframe tbody tr th {\n",
              "        vertical-align: top;\n",
              "    }\n",
              "\n",
              "    .dataframe thead th {\n",
              "        text-align: right;\n",
              "    }\n",
              "</style>\n",
              "<table border=\"1\" class=\"dataframe\">\n",
              "  <thead>\n",
              "    <tr style=\"text-align: right;\">\n",
              "      <th></th>\n",
              "      <th>i</th>\n",
              "      <th>j</th>\n",
              "      <th>cluster</th>\n",
              "    </tr>\n",
              "  </thead>\n",
              "  <tbody>\n",
              "    <tr>\n",
              "      <th>0</th>\n",
              "      <td>4</td>\n",
              "      <td>10</td>\n",
              "      <td>-1</td>\n",
              "    </tr>\n",
              "    <tr>\n",
              "      <th>1</th>\n",
              "      <td>5</td>\n",
              "      <td>11</td>\n",
              "      <td>-1</td>\n",
              "    </tr>\n",
              "    <tr>\n",
              "      <th>2</th>\n",
              "      <td>10</td>\n",
              "      <td>8</td>\n",
              "      <td>3</td>\n",
              "    </tr>\n",
              "    <tr>\n",
              "      <th>3</th>\n",
              "      <td>3</td>\n",
              "      <td>8</td>\n",
              "      <td>0</td>\n",
              "    </tr>\n",
              "    <tr>\n",
              "      <th>4</th>\n",
              "      <td>6</td>\n",
              "      <td>8</td>\n",
              "      <td>1</td>\n",
              "    </tr>\n",
              "    <tr>\n",
              "      <th>5</th>\n",
              "      <td>9</td>\n",
              "      <td>5</td>\n",
              "      <td>1</td>\n",
              "    </tr>\n",
              "    <tr>\n",
              "      <th>6</th>\n",
              "      <td>8</td>\n",
              "      <td>3</td>\n",
              "      <td>2</td>\n",
              "    </tr>\n",
              "    <tr>\n",
              "      <th>7</th>\n",
              "      <td>13</td>\n",
              "      <td>8</td>\n",
              "      <td>3</td>\n",
              "    </tr>\n",
              "    <tr>\n",
              "      <th>8</th>\n",
              "      <td>1</td>\n",
              "      <td>7</td>\n",
              "      <td>0</td>\n",
              "    </tr>\n",
              "    <tr>\n",
              "      <th>9</th>\n",
              "      <td>2</td>\n",
              "      <td>7</td>\n",
              "      <td>0</td>\n",
              "    </tr>\n",
              "    <tr>\n",
              "      <th>10</th>\n",
              "      <td>6</td>\n",
              "      <td>7</td>\n",
              "      <td>1</td>\n",
              "    </tr>\n",
              "    <tr>\n",
              "      <th>11</th>\n",
              "      <td>8</td>\n",
              "      <td>7</td>\n",
              "      <td>1</td>\n",
              "    </tr>\n",
              "    <tr>\n",
              "      <th>12</th>\n",
              "      <td>12</td>\n",
              "      <td>8</td>\n",
              "      <td>3</td>\n",
              "    </tr>\n",
              "    <tr>\n",
              "      <th>13</th>\n",
              "      <td>13</td>\n",
              "      <td>7</td>\n",
              "      <td>3</td>\n",
              "    </tr>\n",
              "    <tr>\n",
              "      <th>14</th>\n",
              "      <td>8</td>\n",
              "      <td>6</td>\n",
              "      <td>1</td>\n",
              "    </tr>\n",
              "    <tr>\n",
              "      <th>15</th>\n",
              "      <td>14</td>\n",
              "      <td>6</td>\n",
              "      <td>3</td>\n",
              "    </tr>\n",
              "    <tr>\n",
              "      <th>16</th>\n",
              "      <td>6</td>\n",
              "      <td>3</td>\n",
              "      <td>2</td>\n",
              "    </tr>\n",
              "    <tr>\n",
              "      <th>17</th>\n",
              "      <td>7</td>\n",
              "      <td>5</td>\n",
              "      <td>1</td>\n",
              "    </tr>\n",
              "    <tr>\n",
              "      <th>18</th>\n",
              "      <td>10</td>\n",
              "      <td>4</td>\n",
              "      <td>1</td>\n",
              "    </tr>\n",
              "    <tr>\n",
              "      <th>19</th>\n",
              "      <td>4</td>\n",
              "      <td>3</td>\n",
              "      <td>2</td>\n",
              "    </tr>\n",
              "    <tr>\n",
              "      <th>20</th>\n",
              "      <td>3</td>\n",
              "      <td>6</td>\n",
              "      <td>0</td>\n",
              "    </tr>\n",
              "    <tr>\n",
              "      <th>21</th>\n",
              "      <td>9</td>\n",
              "      <td>2</td>\n",
              "      <td>2</td>\n",
              "    </tr>\n",
              "    <tr>\n",
              "      <th>22</th>\n",
              "      <td>11</td>\n",
              "      <td>3</td>\n",
              "      <td>1</td>\n",
              "    </tr>\n",
              "    <tr>\n",
              "      <th>23</th>\n",
              "      <td>15</td>\n",
              "      <td>4</td>\n",
              "      <td>-1</td>\n",
              "    </tr>\n",
              "    <tr>\n",
              "      <th>24</th>\n",
              "      <td>13</td>\n",
              "      <td>3</td>\n",
              "      <td>1</td>\n",
              "    </tr>\n",
              "    <tr>\n",
              "      <th>25</th>\n",
              "      <td>13</td>\n",
              "      <td>2</td>\n",
              "      <td>1</td>\n",
              "    </tr>\n",
              "  </tbody>\n",
              "</table>\n",
              "</div>"
            ],
            "text/plain": [
              "     i   j  cluster\n",
              "0    4  10       -1\n",
              "1    5  11       -1\n",
              "2   10   8        3\n",
              "3    3   8        0\n",
              "4    6   8        1\n",
              "5    9   5        1\n",
              "6    8   3        2\n",
              "7   13   8        3\n",
              "8    1   7        0\n",
              "9    2   7        0\n",
              "10   6   7        1\n",
              "11   8   7        1\n",
              "12  12   8        3\n",
              "13  13   7        3\n",
              "14   8   6        1\n",
              "15  14   6        3\n",
              "16   6   3        2\n",
              "17   7   5        1\n",
              "18  10   4        1\n",
              "19   4   3        2\n",
              "20   3   6        0\n",
              "21   9   2        2\n",
              "22  11   3        1\n",
              "23  15   4       -1\n",
              "24  13   3        1\n",
              "25  13   2        1"
            ]
          },
          "execution_count": 12,
          "metadata": {},
          "output_type": "execute_result"
        }
      ],
      "source": [
        "df['cluster'] = model.labels_\n",
        "df"
      ]
    },
    {
      "cell_type": "code",
      "execution_count": 27,
      "metadata": {
        "colab": {
          "base_uri": "https://localhost:8080/"
        },
        "id": "_erhhLlWbGi2",
        "outputId": "54fa7504-d2c5-48da-e9c9-28dd7c48da21"
      },
      "outputs": [
        {
          "name": "stdout",
          "output_type": "stream",
          "text": [
            "---------------------------------------------\n",
            "Core points\n",
            "     i  j  cluster\n",
            "3    3  8        0\n",
            "5    9  5        1\n",
            "6    8  3        2\n",
            "7   13  8        3\n",
            "9    2  7        0\n",
            "10   6  7        1\n",
            "11   8  7        1\n",
            "12  12  8        3\n",
            "13  13  7        3\n",
            "14   8  6        1\n",
            "16   6  3        2\n",
            "17   7  5        1\n",
            "18  10  4        1\n",
            "20   3  6        0\n",
            "22  11  3        1\n",
            "24  13  3        1\n",
            "---------------------------------------------\n",
            "Noise points\n",
            "     i   j  cluster\n",
            "0    4  10       -1\n",
            "1    5  11       -1\n",
            "23  15   4       -1\n",
            "---------------------------------------------\n",
            "Border points\n",
            "i          10\n",
            "j           8\n",
            "cluster     3\n",
            "Name: 2, dtype: int64\n",
            "i          6\n",
            "j          8\n",
            "cluster    1\n",
            "Name: 4, dtype: int64\n",
            "i          1\n",
            "j          7\n",
            "cluster    0\n",
            "Name: 8, dtype: int64\n",
            "i          14\n",
            "j           6\n",
            "cluster     3\n",
            "Name: 15, dtype: int64\n",
            "i          4\n",
            "j          3\n",
            "cluster    2\n",
            "Name: 19, dtype: int64\n",
            "i          9\n",
            "j          2\n",
            "cluster    2\n",
            "Name: 21, dtype: int64\n",
            "i          13\n",
            "j           2\n",
            "cluster     1\n",
            "Name: 25, dtype: int64\n"
          ]
        }
      ],
      "source": [
        "core_points = df.iloc[model.core_sample_indices_]\n",
        "print(\"---------------------------------------------\")\n",
        "print(\"Core points\")\n",
        "print(core_points)\n",
        "noise_points = df[df.cluster == -1]\n",
        "print(\"---------------------------------------------\")\n",
        "print(\"Noise points\")\n",
        "print(noise_points)\n",
        "A = set([x for x in df.index])\n",
        "B = set(model.core_sample_indices_).union({x for x in list(noise_points.index)})\n",
        "border_points = A.difference(B)  \n",
        "print(\"---------------------------------------------\")\n",
        "print(\"Border points\")\n",
        "#print(border_points)\n",
        "for i in border_points:\n",
        "  print(df.iloc[i])"
      ]
    },
    {
      "cell_type": "code",
      "execution_count": 28,
      "metadata": {
        "colab": {
          "base_uri": "https://localhost:8080/"
        },
        "id": "NqoUeUyahMA9",
        "outputId": "6d49bb59-8cc9-40f8-f445-6cabe8ead336"
      },
      "outputs": [
        {
          "name": "stdout",
          "output_type": "stream",
          "text": [
            "{0, 1, 23}\n",
            "{0, 1, 3, 5, 6, 7, 9, 10, 11, 12, 13, 14, 16, 17, 18, 20, 22, 23, 24}\n"
          ]
        }
      ],
      "source": [
        "\n",
        "Npts = {x for x in list(noise_points.index)}\n",
        "print(Npts)\n",
        "npts1 = set(model.core_sample_indices_)\n",
        "res = npts1.union(Npts)\n",
        "print(res)"
      ]
    },
    {
      "cell_type": "code",
      "execution_count": 15,
      "metadata": {
        "colab": {
          "base_uri": "https://localhost:8080/"
        },
        "id": "M0ZJ-rNse-1U",
        "outputId": "0b03b6b1-04d1-4e34-fc7a-711ab5a9058f"
      },
      "outputs": [
        {
          "data": {
            "text/plain": [
              "array([ 3,  5,  6,  7,  9, 10, 11, 12, 13, 14, 16, 17, 18, 20, 22, 24])"
            ]
          },
          "execution_count": 15,
          "metadata": {},
          "output_type": "execute_result"
        }
      ],
      "source": [
        "model.core_sample_indices_"
      ]
    },
    {
      "cell_type": "code",
      "execution_count": 16,
      "metadata": {
        "colab": {
          "base_uri": "https://localhost:8080/"
        },
        "id": "NbjUOaJ6d9My",
        "outputId": "6f239e49-3d2a-44cf-90d4-8e90c3f9586c"
      },
      "outputs": [
        {
          "data": {
            "text/plain": [
              "{0, 1, 23}"
            ]
          },
          "execution_count": 16,
          "metadata": {},
          "output_type": "execute_result"
        }
      ],
      "source": [
        "set(model.core_sample_indices_)\n",
        "set(noise_points.index)"
      ]
    },
    {
      "cell_type": "code",
      "execution_count": 29,
      "metadata": {
        "colab": {
          "base_uri": "https://localhost:8080/",
          "height": 359
        },
        "id": "g5Rd7cAJTbxv",
        "outputId": "b993d587-5b02-4253-eca9-868ba189adf2"
      },
      "outputs": [
        {
          "data": {
            "image/png": "[encoded data removed]",
            "text/plain": [
              "<Figure size 720x576 with 1 Axes>"
            ]
          },
          "metadata": {
            "needs_background": "light"
          },
          "output_type": "display_data"
        }
      ],
      "source": [
        "# Plotting the resulting clusters\n",
        "import matplotlib.pyplot as plt\n",
        "import matplotlib.colors\n",
        "\n",
        "plt.figure(figsize=(10,8))\n",
        "plt.scatter(df.i,df.j,s=10)\n",
        "plt.title('Original data',fontsize=30)\n",
        "plt.xlabel('x',fontsize=21)\n",
        "plt.ylabel('y',fontsize=21)\n",
        "plt.show()"
      ]
    },
    {
      "cell_type": "code",
      "execution_count": 30,
      "metadata": {
        "colab": {
          "base_uri": "https://localhost:8080/",
          "height": 359
        },
        "id": "YtxRACIfWvMj",
        "outputId": "9ea1c5c6-dff0-4dc8-c000-8f62d8bc8aab"
      },
      "outputs": [
        {
          "data": {
            "image/png": "[encoded data removed]",
            "text/plain": [
              "<Figure size 720x576 with 1 Axes>"
            ]
          },
          "metadata": {
            "needs_background": "light"
          },
          "output_type": "display_data"
        }
      ],
      "source": [
        "colors=['blue','green','yellow','purple','red']\n",
        "\n",
        "plt.figure(figsize=(10,8))\n",
        "plt.scatter(df.i,df.j,c=df['cluster'],cmap= matplotlib.colors.ListedColormap(colors),s=30)\n",
        "plt.title('DBSCAN Clustering',fontsize=21)\n",
        "plt.xlabel('x',fontsize=21)\n",
        "plt.ylabel('y',fontsize=21)\n",
        "plt.show()"
      ]
    },
    {
      "cell_type": "code",
      "execution_count": 31,
      "metadata": {
        "colab": {
          "base_uri": "https://localhost:8080/",
          "height": 359
        },
        "id": "T-3tZO3zYo2J",
        "outputId": "18461ebe-f40f-4b0f-c1f2-fbb0ef095f78"
      },
      "outputs": [
        {
          "data": {
            "image/png": "[encoded data removed]",
            "text/plain": [
              "<Figure size 720x576 with 1 Axes>"
            ]
          },
          "metadata": {
            "needs_background": "light"
          },
          "output_type": "display_data"
        }
      ],
      "source": [
        "colors=['blue','green','yellow','purple','red']\n",
        "# Usage of Grid to find the core, border and noise points\n",
        "plt.figure(figsize=(10,8))\n",
        "plt.scatter(df.i,df.j,c=df['cluster'],cmap= matplotlib.colors.ListedColormap(colors),s=15)\n",
        "plt.grid(visible=True)\n",
        "plt.xticks([x for x in range(1,17)])\n",
        "plt.yticks([y for y in range(1,13)])\n",
        "plt.title('DBSCAN Clustering',fontsize=21)\n",
        "plt.xlabel('x',fontsize=21)\n",
        "plt.ylabel('y',fontsize=21)\n",
        "plt.show()"
      ]
    },
    {
      "cell_type": "markdown",
      "metadata": {
        "id": "NV1Y_JzOnh9q"
      },
      "source": [
        "### Q4) Is k directly density reachable from e?"
      ]
    },
    {
      "cell_type": "code",
      "execution_count": 20,
      "metadata": {
        "colab": {
          "base_uri": "https://localhost:8080/"
        },
        "id": "Dl03afkjZdNg",
        "outputId": "b1d460b9-484b-4120-f40e-d6b129d7a662"
      },
      "outputs": [
        {
          "name": "stdout",
          "output_type": "stream",
          "text": [
            "Point K (6, 7) is not directly density reachable to point e (6, 8)\n"
          ]
        }
      ],
      "source": [
        "k = df.iloc[10]\n",
        "e = df.iloc[4]\n",
        "dist = np.sqrt((k[0]-e[0])**2 +(k[1]-e[1])**2)\n",
        "eps = 2\n",
        "res = 'directly density reachable' if dist < eps else 'Not directly density reachable'\n",
        "print(f'Point K {k[0],k[1]} is not {res} to point e {e[0],e[1]}')"
      ]
    },
    {
      "cell_type": "code",
      "execution_count": 21,
      "metadata": {
        "colab": {
          "base_uri": "https://localhost:8080/",
          "height": 551
        },
        "id": "AcodNV5eY-Uf",
        "outputId": "a6684df0-8c23-49e0-a414-e16f2cba6f3f"
      },
      "outputs": [
        {
          "data": {
            "text/html": [
              "<div>\n",
              "<style scoped>\n",
              "    .dataframe tbody tr th:only-of-type {\n",
              "        vertical-align: middle;\n",
              "    }\n",
              "\n",
              "    .dataframe tbody tr th {\n",
              "        vertical-align: top;\n",
              "    }\n",
              "\n",
              "    .dataframe thead th {\n",
              "        text-align: right;\n",
              "    }\n",
              "</style>\n",
              "<table border=\"1\" class=\"dataframe\">\n",
              "  <thead>\n",
              "    <tr style=\"text-align: right;\">\n",
              "      <th></th>\n",
              "      <th>i</th>\n",
              "      <th>j</th>\n",
              "      <th>cluster</th>\n",
              "    </tr>\n",
              "  </thead>\n",
              "  <tbody>\n",
              "    <tr>\n",
              "      <th>3</th>\n",
              "      <td>3</td>\n",
              "      <td>8</td>\n",
              "      <td>0</td>\n",
              "    </tr>\n",
              "    <tr>\n",
              "      <th>5</th>\n",
              "      <td>9</td>\n",
              "      <td>5</td>\n",
              "      <td>1</td>\n",
              "    </tr>\n",
              "    <tr>\n",
              "      <th>6</th>\n",
              "      <td>8</td>\n",
              "      <td>3</td>\n",
              "      <td>2</td>\n",
              "    </tr>\n",
              "    <tr>\n",
              "      <th>7</th>\n",
              "      <td>13</td>\n",
              "      <td>8</td>\n",
              "      <td>3</td>\n",
              "    </tr>\n",
              "    <tr>\n",
              "      <th>9</th>\n",
              "      <td>2</td>\n",
              "      <td>7</td>\n",
              "      <td>0</td>\n",
              "    </tr>\n",
              "    <tr>\n",
              "      <th>10</th>\n",
              "      <td>6</td>\n",
              "      <td>7</td>\n",
              "      <td>1</td>\n",
              "    </tr>\n",
              "    <tr>\n",
              "      <th>11</th>\n",
              "      <td>8</td>\n",
              "      <td>7</td>\n",
              "      <td>1</td>\n",
              "    </tr>\n",
              "    <tr>\n",
              "      <th>12</th>\n",
              "      <td>12</td>\n",
              "      <td>8</td>\n",
              "      <td>3</td>\n",
              "    </tr>\n",
              "    <tr>\n",
              "      <th>13</th>\n",
              "      <td>13</td>\n",
              "      <td>7</td>\n",
              "      <td>3</td>\n",
              "    </tr>\n",
              "    <tr>\n",
              "      <th>14</th>\n",
              "      <td>8</td>\n",
              "      <td>6</td>\n",
              "      <td>1</td>\n",
              "    </tr>\n",
              "    <tr>\n",
              "      <th>16</th>\n",
              "      <td>6</td>\n",
              "      <td>3</td>\n",
              "      <td>2</td>\n",
              "    </tr>\n",
              "    <tr>\n",
              "      <th>17</th>\n",
              "      <td>7</td>\n",
              "      <td>5</td>\n",
              "      <td>1</td>\n",
              "    </tr>\n",
              "    <tr>\n",
              "      <th>18</th>\n",
              "      <td>10</td>\n",
              "      <td>4</td>\n",
              "      <td>1</td>\n",
              "    </tr>\n",
              "    <tr>\n",
              "      <th>20</th>\n",
              "      <td>3</td>\n",
              "      <td>6</td>\n",
              "      <td>0</td>\n",
              "    </tr>\n",
              "    <tr>\n",
              "      <th>22</th>\n",
              "      <td>11</td>\n",
              "      <td>3</td>\n",
              "      <td>1</td>\n",
              "    </tr>\n",
              "    <tr>\n",
              "      <th>24</th>\n",
              "      <td>13</td>\n",
              "      <td>3</td>\n",
              "      <td>1</td>\n",
              "    </tr>\n",
              "  </tbody>\n",
              "</table>\n",
              "</div>"
            ],
            "text/plain": [
              "     i  j  cluster\n",
              "3    3  8        0\n",
              "5    9  5        1\n",
              "6    8  3        2\n",
              "7   13  8        3\n",
              "9    2  7        0\n",
              "10   6  7        1\n",
              "11   8  7        1\n",
              "12  12  8        3\n",
              "13  13  7        3\n",
              "14   8  6        1\n",
              "16   6  3        2\n",
              "17   7  5        1\n",
              "18  10  4        1\n",
              "20   3  6        0\n",
              "22  11  3        1\n",
              "24  13  3        1"
            ]
          },
          "execution_count": 21,
          "metadata": {},
          "output_type": "execute_result"
        }
      ],
      "source": [
        "core_points"
      ]
    },
    {
      "cell_type": "markdown",
      "metadata": {
        "id": "6bZB-zoDaZjb"
      },
      "source": [
        "### Q5) Is z density reachable from r? If yes, list a possible connecting path."
      ]
    },
    {
      "cell_type": "markdown",
      "metadata": {
        "id": "ZvjUjsHGathO"
      },
      "source": [
        "- A point X is density-reachable from point Y w.r.t epsilon, minPoints if there is a chain of points p1, p2, p3, …, pn and p1=X and pn=Y such that pi+1 is directly density-reachable from pi."
      ]
    },
    {
      "cell_type": "code",
      "execution_count": 22,
      "metadata": {
        "colab": {
          "base_uri": "https://localhost:8080/"
        },
        "id": "JYsaMeDVqpTd",
        "outputId": "26390a67-9567-4ef8-d18e-74f9c0f5ea27"
      },
      "outputs": [
        {
          "name": "stdout",
          "output_type": "stream",
          "text": [
            "Path 1: Z --> Y --> W --> s --> f --> o --> r\n",
            "Path 2: Z --> Y --> W --> s --> f --> r\n"
          ]
        }
      ],
      "source": [
        "# path\n",
        "print('Path 1: Z --> Y --> W --> s --> f --> o --> r')\n",
        "print('Path 2: Z --> Y --> W --> s --> f --> r')"
      ]
    }
  ],
  "metadata": {
    "colab": {
      "collapsed_sections": [],
      "provenance": []
    },
    "kernelspec": {
      "display_name": "Python 3.9.12 ('base')",
      "language": "python",
      "name": "python3"
    },
    "language_info": {
      "codemirror_mode": {
        "name": "ipython",
        "version": 3
      },
      "file_extension": ".py",
      "mimetype": "text/x-python",
      "name": "python",
      "nbconvert_exporter": "python",
      "pygments_lexer": "ipython3",
      "version": "3.9.12"
    },
    "vscode": {
      "interpreter": {
        "hash": "ec82f12a2cb47047b534e9c669340dcebb498bf61f15a6577c32df05515dbebf"
      }
    }
  },
  "nbformat": 4,
  "nbformat_minor": 0
}
