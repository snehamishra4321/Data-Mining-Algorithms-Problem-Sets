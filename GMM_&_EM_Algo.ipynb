{
 "cells": [
  {
   "cell_type": "code",
   "execution_count": 24,
   "id": "8fb72242",
   "metadata": {},
   "outputs": [],
   "source": [
    "import numpy as np\n",
    "import pdb\n",
    "import matplotlib.pyplot as plt"
   ]
  },
  {
   "cell_type": "markdown",
   "id": "dbb6c98c",
   "metadata": {},
   "source": [
    "### Q2: Gaussian Mixture Models and EM Algorithm"
   ]
  },
  {
   "cell_type": "markdown",
   "id": "49ed22bc",
   "metadata": {},
   "source": [
    "Data matrix given in the question is initialized below:"
   ]
  },
  {
   "cell_type": "code",
   "execution_count": 25,
   "id": "db8e673d",
   "metadata": {},
   "outputs": [],
   "source": [
    "# Initializing data matrix\n",
    "\n",
    "\n",
    "x = np.matrix([[1.5, 4.5],\n",
    " [2.2, 1.5],\n",
    " [3.9, 3.4],\n",
    " [2.1, 2.9],\n",
    " [0.5, 3.2],\n",
    " [0.9, 4.3],\n",
    " [2.7, 2.1],\n",
    " [2.5, 3.5],\n",
    " [2.8, 4.9],\n",
    " [0.1, 3.7]])\n",
    "\n",
    "# Initial Mean required\n",
    "mu = np.matrix([[0.5,4.2], [2.4,1.6],[3,3.2]])\n",
    "\n",
    "# Initial Covariance matrix\n",
    "cov = np.array([[[1,0],[0,1]], [[1,0],[0,1]],[[1,0],[0,1]]], dtype='float')\n",
    "\n",
    "# Initial Prior\n",
    "pc = np.array([1/3,1/3,1/3])\n",
    "\n",
    "# Number of attributes\n",
    "d = 2\n",
    "\n",
    "# Number of clusters\n",
    "nc = 3\n",
    "\n",
    "# Number of data points\n",
    "n = x.shape[0]"
   ]
  },
  {
   "cell_type": "markdown",
   "id": "e15854fe",
   "metadata": {},
   "source": [
    "### a) Compute the first EM iterates of the cluster means."
   ]
  },
  {
   "cell_type": "markdown",
   "id": "fce6cf33",
   "metadata": {},
   "source": [
    "Prior to finding the updated means of the cluster, we need to compute the posterior probabilities. </br>\n",
    "\n",
    "Let $f_i(x) = f(x | \\mu , \\Sigma) = \\frac{1}{(2 \\pi)^\\frac{d}{2} (|\\Sigma|)^\\frac{1}{2}} exp(-\\frac{(x - \\mu_i)^T\\Sigma(x-\\mu_i)}{2})$\n",
    "\n",
    "where $\\mu_i$(mean of each cluster) and $\\Sigma_i$(covariance) are both unknown parameters </br>\n",
    "\n",
    "The probability density function of X is given as a Gaussian Mixture Model over all $k$ clusters <\\br>\n",
    "\n",
    "$f(x) = \\Sigma_{i=1}^kf_i(x)P(C_i) = \\Sigma_{i=1}^kf(x | \\mu , \\Sigma)P(C_i)$  where $P(C_i)$ are the Prior probabilities. \n",
    "\n",
    "$f(x)$ is calculated in the given code below:"
   ]
  },
  {
   "cell_type": "code",
   "execution_count": 26,
   "id": "e34d906c",
   "metadata": {},
   "outputs": [],
   "source": [
    "# Calculation of f(x_i) for a bivariate normal distribution\n",
    "def bv_norml(x, mu, cov):\n",
    "    \n",
    "    # Exponential Term\n",
    "    exp_ = np.matrix(x-mu)*np.linalg.inv(cov)*np.matrix(x-mu).T\n",
    "    # Coefficient term\n",
    "    coeff = 1/(np.power(2*np.pi,d/2) *np.sqrt(np.linalg.det(cov)) )\n",
    "    \n",
    "    #Calculate f(x_i)\n",
    "    fx_i = coeff * np.exp(- exp_ / 2)\n",
    "    \n",
    "    return fx_i.item()"
   ]
  },
  {
   "cell_type": "markdown",
   "id": "8a48d5fc",
   "metadata": {},
   "source": [
    "#### Expectation calculation\n",
    "\n",
    "\n",
    "Calucate Posterior Probabilities :\n",
    "\n",
    "$w_{ij} = P(C_i, x_j) = \\frac{f_i(x_i) . P(C_i)}{\\Sigma_{a=1}^k f_a(x_a) . P(C_a)}$\n",
    "\n",
    "Calculation of the above is given in the below code: "
   ]
  },
  {
   "cell_type": "code",
   "execution_count": 27,
   "id": "3005061e",
   "metadata": {},
   "outputs": [],
   "source": [
    "mu_0 = mu\n",
    "\n",
    "# Expectation Step\n",
    "w = np.zeros((nc,n))\n",
    "\n",
    "# Calculate Posterior Probabilities\n",
    "for i in range(nc):\n",
    "\n",
    "    for j in range(n):\n",
    "\n",
    "        num = bv_norml(x[j], mu[i], cov[i])  * pc[i] \n",
    "        den = 0\n",
    "\n",
    "        for k in range(nc):\n",
    "            den += bv_norml(x[j], mu[k], cov[k]) * pc[k]\n",
    "\n",
    "        w[i][j] = num / den"
   ]
  },
  {
   "cell_type": "markdown",
   "id": "7344250a",
   "metadata": {},
   "source": [
    "#### Maximization Step\n",
    "\n",
    "Calculating updated cluster means :\n",
    "\n",
    "$\\mu_i = \\frac{\\Sigma_{j=1}^nw_{ij}.x_j}{\\Sigma_{j=1}^nw_{ij}} $\n",
    "\n",
    "Calculation of mean is given in the below code:\n",
    "\n"
   ]
  },
  {
   "cell_type": "code",
   "execution_count": 28,
   "id": "7eaf6346",
   "metadata": {},
   "outputs": [
    {
     "name": "stdout",
     "output_type": "stream",
     "text": [
      "Mean for cluster   1   ,  [[0.90405015 3.91712731]]\n",
      "Mean for cluster   2   ,  [[2.34984409 2.22635325]]\n",
      "Mean for cluster   3   ,  [[2.72488742 3.52342783]]\n"
     ]
    }
   ],
   "source": [
    "mu = w * x / np.matrix(w.sum(axis = 1)).T\n",
    "\n",
    "for i in range(3):\n",
    "    print(\"Mean for cluster  \",i+1, \"  , \", mu[i]) "
   ]
  },
  {
   "cell_type": "markdown",
   "id": "b45c167b",
   "metadata": {},
   "source": [
    "### b) Show the data on a scatter plot, together with the initial and iterated means. Comment on your answer."
   ]
  },
  {
   "cell_type": "code",
   "execution_count": 29,
   "id": "5e12d700",
   "metadata": {
    "scrolled": true
   },
   "outputs": [
    {
     "data": {
      "image/png": "[encoded data removed]",
      "text/plain": [
       "<Figure size 432x288 with 1 Axes>"
      ]
     },
     "metadata": {
      "needs_background": "light"
     },
     "output_type": "display_data"
    }
   ],
   "source": [
    "plt.scatter(np.array(x[:,0]).flatten(),np.array(x[:,1]).flatten(),c = 'b', label = 'Data points')\n",
    "\n",
    "# Plot the centroid of three clusters\n",
    "plt.scatter(mu[0,0], mu[0,1],c = 'r', label = 'New centroid of Cluster 1')\n",
    "plt.scatter(mu_0[0,0], mu_0[0,1],c = 'r', marker = '<', label = 'Initial centroid of Cluster 1')\n",
    "plt.scatter(mu[1,0], mu[1,1],c = 'k', label = 'New centroid of Cluster 2')\n",
    "plt.scatter(mu_0[1,0], mu_0[1,1],c = 'k', marker = '<', label = 'Initial centroid of Cluster 2')\n",
    "plt.scatter(mu[2,0], mu[2,1],c = 'y', label = 'New centroid of Cluster 3')\n",
    "\n",
    "plt.scatter(mu_0[2,0], mu_0[2,1],c = 'y', marker = '<',label = 'Initial centroid of Cluster 3')\n",
    "plt.xlabel(\"X_1\")\n",
    "plt.ylabel(\"X_2\")\n",
    "plt.ylim([-2,6])\n",
    "\n",
    "plt.rcParams.update({'font.size': 10})\n",
    "plt.legend()\n",
    "plt.show()"
   ]
  },
  {
   "cell_type": "markdown",
   "id": "d6d40085",
   "metadata": {},
   "source": [
    "From the scatter plot above, we can observe that the mean of each cluster has been updated. The Red cluster (C1) has shifted towards the centre of the first 4 data points from the left. In the same manner, Black (C2) and Yellow(C3) has shifted closer to data points such that the probability of these distributions given the data points are higher as compared to the previous iteration which accounts for better clustering i.e more relevant data in the cluster. "
   ]
  },
  {
   "cell_type": "markdown",
   "id": "e740329b",
   "metadata": {},
   "source": [
    "### c) Compute the first EM iterates of the mixture probabilities."
   ]
  },
  {
   "cell_type": "markdown",
   "id": "004b5c4b",
   "metadata": {},
   "source": [
    "The updated mixture probabilities / Prior probabilities:\n",
    "\n",
    "$ P(C_i) = \\frac{\\Sigma_{j=1}^nw_{ij}}{n}  $\n",
    "\n",
    "The python code to update the prior probabilities is given below :"
   ]
  },
  {
   "cell_type": "code",
   "execution_count": 30,
   "id": "fcf954c5",
   "metadata": {},
   "outputs": [
    {
     "ename": "NameError",
     "evalue": "name 'P_c' is not defined",
     "output_type": "error",
     "traceback": [
      "\u001b[0;31m---------------------------------------------------------------------------\u001b[0m",
      "\u001b[0;31mNameError\u001b[0m                                 Traceback (most recent call last)",
      "\u001b[1;32m/home/sneha/Dropbox/Coursework/ECEN-758/Assignments/Assignment 3 - Question 2.ipynb Cell 17\u001b[0m in \u001b[0;36m<cell line: 1>\u001b[0;34m()\u001b[0m\n\u001b[1;32m      <a href='vscode-notebook-cell:/home/sneha/Dropbox/Coursework/ECEN-758/Assignments/Assignment%203%20-%20Question%202.ipynb#X22sZmlsZQ%3D%3D?line=0'>1</a>\u001b[0m \u001b[39mfor\u001b[39;00m i \u001b[39min\u001b[39;00m \u001b[39mrange\u001b[39m(nc):\n\u001b[0;32m----> <a href='vscode-notebook-cell:/home/sneha/Dropbox/Coursework/ECEN-758/Assignments/Assignment%203%20-%20Question%202.ipynb#X22sZmlsZQ%3D%3D?line=2'>3</a>\u001b[0m     P_c[i] \u001b[39m=\u001b[39m  w\u001b[39m.\u001b[39msum(axis \u001b[39m=\u001b[39m \u001b[39m1\u001b[39m)[i] \u001b[39m/\u001b[39m n\n\u001b[1;32m      <a href='vscode-notebook-cell:/home/sneha/Dropbox/Coursework/ECEN-758/Assignments/Assignment%203%20-%20Question%202.ipynb#X22sZmlsZQ%3D%3D?line=3'>4</a>\u001b[0m     \u001b[39mprint\u001b[39m(\u001b[39m\"\u001b[39m\u001b[39mPrior probability of Cluster \u001b[39m\u001b[39m\"\u001b[39m,i\u001b[39m+\u001b[39m\u001b[39m1\u001b[39m,\u001b[39m\"\u001b[39m\u001b[39m :\u001b[39m\u001b[39m\"\u001b[39m,P_c[i])\n",
      "\u001b[0;31mNameError\u001b[0m: name 'P_c' is not defined"
     ]
    }
   ],
   "source": [
    "for i in range(nc):\n",
    "    \n",
    "    P_c[i] =  w.sum(axis = 1)[i] / n\n",
    "    print(\"Prior probability of Cluster \",i+1,\" :\",P_c[i])"
   ]
  },
  {
   "cell_type": "markdown",
   "id": "383ba7a8",
   "metadata": {},
   "source": [
    "### d) Compute the first iterates of the covariance matrices for the three clusters.\n",
    "\n",
    "The updated covariance matrix:\n",
    "\n",
    "$\\Sigma_i = \\frac{\\Sigma_{j=1}^nw_{ij}(x_j - \\mu_i)(x_j - \\mu_i)^T}{\\Sigma_{j=1}^nw_{ij}}$\n",
    "\n",
    "The python code to calculate updated covariance matrix is given below :"
   ]
  },
  {
   "cell_type": "code",
   "execution_count": null,
   "id": "21663564",
   "metadata": {},
   "outputs": [
    {
     "name": "stdout",
     "output_type": "stream",
     "text": [
      "Covariance matrix of Cluster  1  :\n",
      " [[0.55102884 0.20653126]\n",
      " [0.20653126 0.31771681]]\n",
      "Covariance matrix of Cluster  2  :\n",
      " [[0.29499013 0.00514977]\n",
      " [0.00514977 0.58621392]]\n",
      "Covariance matrix of Cluster  3  :\n",
      " [[0.63676414 0.01587902]\n",
      " [0.01587902 0.86305495]]\n"
     ]
    }
   ],
   "source": [
    "for i in range(nc):\n",
    "\n",
    "    # Updating Covariance matrix\n",
    "    cov[i] = (x - mu[i]).T * np.diag(w[i]) * (x - mu[i]) / w.sum(axis = 1)[i]\n",
    "    print(\"Covariance matrix of Cluster \",i+1,\" :\\n\",cov[i])"
   ]
  }
 ],
 "metadata": {
  "kernelspec": {
   "display_name": "Python 3.9.12 ('base')",
   "language": "python",
   "name": "python3"
  },
  "language_info": {
   "codemirror_mode": {
    "name": "ipython",
    "version": 3
   },
   "file_extension": ".py",
   "mimetype": "text/x-python",
   "name": "python",
   "nbconvert_exporter": "python",
   "pygments_lexer": "ipython3",
   "version": "3.9.12"
  },
  "vscode": {
   "interpreter": {
    "hash": "ec82f12a2cb47047b534e9c669340dcebb498bf61f15a6577c32df05515dbebf"
   }
  }
 },
 "nbformat": 4,
 "nbformat_minor": 5
}
