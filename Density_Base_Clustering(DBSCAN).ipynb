{
  "cells": [
    {
      "cell_type": "code",
      "execution_count": null,
      "id": "312da913",
      "metadata": {
        "id": "312da913",
        "outputId": "e999613c-44f5-46a8-9c1b-b8771d976b5f",
        "colab": {
          "base_uri": "https://localhost:8080/",
          "height": 299
        }
      },
      "outputs": [
        {
          "output_type": "execute_result",
          "data": {
            "text/plain": [
              "Text(0.5, 1.0, 'The graph in the question is')"
            ]
          },
          "metadata": {},
          "execution_count": 14
        },
        {
          "output_type": "display_data",
          "data": {
            "text/plain": [
              "<Figure size 432x288 with 1 Axes>"
            ],
            "image/png": "[encoded data removed]"
          },
          "metadata": {
            "needs_background": "light"
          }
        }
      ],
      "source": [
        "import matplotlib.pyplot as plt\n",
        "from sklearn.cluster import DBSCAN\n",
        "import pandas as pd\n",
        "from math import *\n",
        "import string\n",
        "import numpy as np\n",
        "x = [1,2,3,3,4,4,5,6,6,6,7,8,8,9,9,10,10,11,11,12,13,13,13,13,14,14]\n",
        "y = [7,7,4,8,4,10,5,7,8,9,5,6,7,4,8,5,8,4,9,8,2,3,7,8,4,6]\n",
        "arr = []\n",
        "for i in range(len(x)):\n",
        "    arr.append((x[i],y[i]))\n",
        "data = np.array(arr)\n",
        "df = pd.DataFrame(data,columns=['X','Y'])\n",
        "plt.grid()\n",
        "lst = list(range(1,26))\n",
        "plt.xticks(lst,lst)\n",
        "plt.yticks(lst,lst)\n",
        "plt.scatter(data[:,0],data[:,1])\n",
        "plt.title('The graph in the question is')"
      ]
    },
    {
      "cell_type": "markdown",
      "id": "e2fd63d3",
      "metadata": {
        "id": "e2fd63d3"
      },
      "source": [
        "## 3.2"
      ]
    },
    {
      "cell_type": "code",
      "execution_count": null,
      "id": "f2cc526b",
      "metadata": {
        "id": "f2cc526b",
        "outputId": "7ba7f4e5-7d9c-4d1a-e756-095efe617e5c",
        "colab": {
          "base_uri": "https://localhost:8080/"
        }
      },
      "outputs": [
        {
          "output_type": "stream",
          "name": "stdout",
          "text": [
            "The noise points are [(4, 10)]\n"
          ]
        }
      ],
      "source": [
        "df = pd.DataFrame(data,columns=['X','Y'])\n",
        "clustering = DBSCAN(eps=2, min_samples=3).fit(data)\n",
        "db_dataset = df.copy()\n",
        "db_dataset['Cluster'] = clustering.labels_\n",
        "outliers = db_dataset[db_dataset['Cluster'] == -1]\n",
        "outliers_arr = []\n",
        "for index,row in outliers.iterrows():\n",
        "    outliers_arr.append((row['X'],row['Y']))\n",
        "print('The noise points are',outliers_arr)"
      ]
    },
    {
      "cell_type": "markdown",
      "id": "674a714f",
      "metadata": {
        "id": "674a714f"
      },
      "source": [
        "## 3.1"
      ]
    },
    {
      "cell_type": "code",
      "execution_count": null,
      "id": "43c8822f",
      "metadata": {
        "id": "43c8822f"
      },
      "outputs": [],
      "source": [
        "def distance(x1,x2):\n",
        "    res = sqrt((x2[0] - x1[0])**2 + (x2[1] - x1[1])**2)\n",
        "    return res"
      ]
    },
    {
      "cell_type": "code",
      "execution_count": null,
      "id": "074b2f68",
      "metadata": {
        "id": "074b2f68",
        "outputId": "ec98fc1b-0b74-4a6b-a60b-1c2117d51d25",
        "colab": {
          "base_uri": "https://localhost:8080/"
        }
      },
      "outputs": [
        {
          "output_type": "stream",
          "name": "stdout",
          "text": [
            "The core points are [(2, 7), (4, 4), (5, 5), (6, 7), (6, 8), (6, 9), (7, 5), (8, 6), (8, 7), (9, 4), (9, 8), (10, 5), (10, 8), (11, 4), (11, 9), (12, 8), (13, 3), (13, 7), (13, 8), (14, 4), (14, 6)]\n"
          ]
        }
      ],
      "source": [
        "count = 0\n",
        "core = []\n",
        "for i in arr:\n",
        "    count = 0\n",
        "    for j in arr:\n",
        "        if(distance(i,j) <= 2.0):\n",
        "            count = count + 1\n",
        "    if(count >= 3):\n",
        "        core.append(i)\n",
        "print('The core points are',core)"
      ]
    },
    {
      "cell_type": "code",
      "execution_count": null,
      "id": "2712c9a0",
      "metadata": {
        "id": "2712c9a0",
        "outputId": "5439aaaf-ebfe-4c4e-bd00-bef70cab2cd8",
        "colab": {
          "base_uri": "https://localhost:8080/"
        }
      },
      "outputs": [
        {
          "output_type": "stream",
          "name": "stdout",
          "text": [
            "The border points are [(1, 7), (3, 4), (3, 8), (13, 2)]\n"
          ]
        }
      ],
      "source": [
        "border = []\n",
        "for point in arr:\n",
        "    if point not in core and point not in outliers_arr:\n",
        "        border.append(point)\n",
        "print('The border points are',border)"
      ]
    },
    {
      "cell_type": "markdown",
      "id": "60ba4cb7",
      "metadata": {
        "id": "60ba4cb7"
      },
      "source": [
        "## 3.3"
      ]
    },
    {
      "cell_type": "code",
      "execution_count": null,
      "id": "e3a77214",
      "metadata": {
        "id": "e3a77214",
        "outputId": "3fab97fe-76b0-4ccb-ce87-9e932f89cc24",
        "colab": {
          "base_uri": "https://localhost:8080/"
        }
      },
      "outputs": [
        {
          "output_type": "stream",
          "name": "stdout",
          "text": [
            "The Density based clusters are:\n",
            "\n",
            "The 0 density cluster is\n",
            "(1, 7) (2, 7) (3, 8) \n",
            "\n",
            "The 1 density cluster is\n",
            "(3, 4) (4, 4) (5, 5) (6, 7) (6, 8) (6, 9) (7, 5) (8, 6) (8, 7) (9, 8) (10, 8) (11, 9) (12, 8) (13, 2) (13, 3) (13, 7) (13, 8) (14, 4) (14, 6) \n",
            "\n",
            "The 2 density cluster is\n",
            "(9, 4) (10, 5) (11, 4) \n",
            "\n",
            "\n",
            "\n"
          ]
        }
      ],
      "source": [
        "clusters = set(db_dataset['Cluster'].tolist())\n",
        "clusters = tuple(clusters)\n",
        "print('The Density based clusters are:')\n",
        "print()\n",
        "for val in clusters:\n",
        "    if(val != -1):\n",
        "        print(f'The {val} density cluster is')\n",
        "    for index,row in db_dataset.iterrows():\n",
        "        if(val != -1 and row['Cluster'] == val):\n",
        "            print((row['X'],row['Y']),end = ' ')\n",
        "    print('\\n')"
      ]
    },
    {
      "cell_type": "markdown",
      "id": "3a4d216b",
      "metadata": {
        "id": "3a4d216b"
      },
      "source": [
        "## 3.4"
      ]
    },
    {
      "cell_type": "markdown",
      "id": "6aefc705",
      "metadata": {
        "id": "6aefc705"
      },
      "source": [
        "k = (6,7)\n",
        "e = (6,8)\n",
        "As we can see, the distance between points e and k is 1, which is less than the given radius of 2.So k has e as the core point in its neighbourhood.So k is directly density reachable from e"
      ]
    },
    {
      "cell_type": "markdown",
      "id": "87b41c17",
      "metadata": {
        "id": "87b41c17"
      },
      "source": [
        "## 3.5"
      ]
    },
    {
      "cell_type": "markdown",
      "id": "f777cd33",
      "metadata": {
        "id": "f777cd33"
      },
      "source": [
        "z = (13,2) r = (7,5). Both z and r belong to the same density cluster (2 density cluster). So there will be set of \n",
        "core points which are leading from point r to point z.\n",
        "One such possible connecting path is as follows: r f s w y z\n"
      ]
    },
    {
      "cell_type": "markdown",
      "id": "8e306a6d",
      "metadata": {
        "id": "8e306a6d"
      },
      "source": [
        "## 3.6"
      ]
    },
    {
      "cell_type": "markdown",
      "id": "26c8ef5e",
      "metadata": {
        "id": "26c8ef5e"
      },
      "source": [
        "e is not density connected to v as there exists no core point such that both points(e and v) are density reachable from that core point."
      ]
    },
    {
      "cell_type": "code",
      "execution_count": null,
      "id": "1ea4cd6f",
      "metadata": {
        "id": "1ea4cd6f"
      },
      "outputs": [],
      "source": []
    }
  ],
  "metadata": {
    "kernelspec": {
      "display_name": "Python 3 (ipykernel)",
      "language": "python",
      "name": "python3"
    },
    "language_info": {
      "codemirror_mode": {
        "name": "ipython",
        "version": 3
      },
      "file_extension": ".py",
      "mimetype": "text/x-python",
      "name": "python",
      "nbconvert_exporter": "python",
      "pygments_lexer": "ipython3",
      "version": "3.9.12"
    },
    "colab": {
      "provenance": []
    }
  },
  "nbformat": 4,
  "nbformat_minor": 5
}